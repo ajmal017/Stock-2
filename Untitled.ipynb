{
 "cells": [
  {
   "cell_type": "code",
   "execution_count": 73,
   "metadata": {},
   "outputs": [],
   "source": [
    "import pandas as pd\n",
    "import numpy as np\n",
    "import requests\n",
    "import json"
   ]
  },
  {
   "cell_type": "code",
   "execution_count": 2,
   "metadata": {},
   "outputs": [],
   "source": [
    "url = 'https://financialmodelingprep.com/api/v3/company/stock/list'"
   ]
  },
  {
   "cell_type": "code",
   "execution_count": 3,
   "metadata": {},
   "outputs": [],
   "source": [
    "data = requests.get(url)"
   ]
  },
  {
   "cell_type": "code",
   "execution_count": 21,
   "metadata": {},
   "outputs": [],
   "source": [
    "df = pd.DataFrame(data.json()['symbolsList'])"
   ]
  },
  {
   "cell_type": "code",
   "execution_count": 22,
   "metadata": {},
   "outputs": [
    {
     "data": {
      "text/plain": [
       "['NYSE Arca',\n",
       " 'Nasdaq Global Select',\n",
       " 'New York Stock Exchange',\n",
       " 'NASDAQ Global Market',\n",
       " 'NASDAQ Capital Market',\n",
       " 'BATS Exchange',\n",
       " 'NYSE American',\n",
       " 'Nasdaq',\n",
       " 'NYSE',\n",
       " 'NasdaqGM',\n",
       " 'NasdaqCM',\n",
       " 'NasdaqGS',\n",
       " 'Other OTC',\n",
       " 'YHD',\n",
       " 'Paris',\n",
       " 'Amsterdam',\n",
       " 'Brussels',\n",
       " 'Lisbon',\n",
       " 'Toronto',\n",
       " 'NYSEArca',\n",
       " 'BATS',\n",
       " nan]"
      ]
     },
     "execution_count": 22,
     "metadata": {},
     "output_type": "execute_result"
    }
   ],
   "source": [
    "df['exchange'].unique().tolist()"
   ]
  },
  {
   "cell_type": "code",
   "execution_count": 25,
   "metadata": {},
   "outputs": [
    {
     "data": {
      "text/plain": [
       "exchange\n",
       "Amsterdam                   132\n",
       "BATS                        119\n",
       "BATS Exchange               258\n",
       "Brussels                    164\n",
       "Lisbon                       50\n",
       "NASDAQ Capital Market       878\n",
       "NASDAQ Global Market        847\n",
       "NYSE                        331\n",
       "NYSE American               344\n",
       "NYSE Arca                  1540\n",
       "NYSEArca                    313\n",
       "Nasdaq                     1534\n",
       "Nasdaq Global Select       1504\n",
       "NasdaqCM                    371\n",
       "NasdaqGM                    138\n",
       "NasdaqGS                    431\n",
       "New York Stock Exchange    2602\n",
       "Other OTC                    10\n",
       "Paris                       844\n",
       "Toronto                    1140\n",
       "YHD                         248\n",
       "Name: symbol, dtype: int64"
      ]
     },
     "execution_count": 25,
     "metadata": {},
     "output_type": "execute_result"
    }
   ],
   "source": [
    "df.groupby('exchange')['symbol'].count()"
   ]
  },
  {
   "cell_type": "code",
   "execution_count": 40,
   "metadata": {},
   "outputs": [],
   "source": [
    "exchanges = [\n",
    " 'New York Stock Exchange',\n",
    " 'Nasdaq']"
   ]
  },
  {
   "cell_type": "code",
   "execution_count": 48,
   "metadata": {},
   "outputs": [],
   "source": [
    "df[df['exchange'].isin(exchanges)].to_json('./stocksList.json',orient='records')"
   ]
  },
  {
   "cell_type": "code",
   "execution_count": 47,
   "metadata": {},
   "outputs": [
    {
     "data": {
      "text/html": [
       "<div>\n",
       "<style scoped>\n",
       "    .dataframe tbody tr th:only-of-type {\n",
       "        vertical-align: middle;\n",
       "    }\n",
       "\n",
       "    .dataframe tbody tr th {\n",
       "        vertical-align: top;\n",
       "    }\n",
       "\n",
       "    .dataframe thead th {\n",
       "        text-align: right;\n",
       "    }\n",
       "</style>\n",
       "<table border=\"1\" class=\"dataframe\">\n",
       "  <thead>\n",
       "    <tr style=\"text-align: right;\">\n",
       "      <th></th>\n",
       "      <th>symbol</th>\n",
       "      <th>name</th>\n",
       "      <th>price</th>\n",
       "      <th>exchange</th>\n",
       "    </tr>\n",
       "  </thead>\n",
       "  <tbody>\n",
       "    <tr>\n",
       "      <td>0</td>\n",
       "      <td>SPY</td>\n",
       "      <td>SPDR S&amp;P 500</td>\n",
       "      <td>336.9900</td>\n",
       "      <td>NYSE Arca</td>\n",
       "    </tr>\n",
       "    <tr>\n",
       "      <td>1</td>\n",
       "      <td>CMCSA</td>\n",
       "      <td>Comcast Corporation Class A Common Stock</td>\n",
       "      <td>46.0200</td>\n",
       "      <td>Nasdaq Global Select</td>\n",
       "    </tr>\n",
       "    <tr>\n",
       "      <td>2</td>\n",
       "      <td>KMI</td>\n",
       "      <td>Kinder Morgan Inc.</td>\n",
       "      <td>22.2400</td>\n",
       "      <td>New York Stock Exchange</td>\n",
       "    </tr>\n",
       "    <tr>\n",
       "      <td>3</td>\n",
       "      <td>INTC</td>\n",
       "      <td>Intel Corporation</td>\n",
       "      <td>65.4500</td>\n",
       "      <td>Nasdaq Global Select</td>\n",
       "    </tr>\n",
       "    <tr>\n",
       "      <td>4</td>\n",
       "      <td>MU</td>\n",
       "      <td>Micron Technology Inc.</td>\n",
       "      <td>59.0000</td>\n",
       "      <td>Nasdaq Global Select</td>\n",
       "    </tr>\n",
       "    <tr>\n",
       "      <td>...</td>\n",
       "      <td>...</td>\n",
       "      <td>...</td>\n",
       "      <td>...</td>\n",
       "      <td>...</td>\n",
       "    </tr>\n",
       "    <tr>\n",
       "      <td>13849</td>\n",
       "      <td>SWT</td>\n",
       "      <td>NaN</td>\n",
       "      <td>105.0700</td>\n",
       "      <td>NYSE</td>\n",
       "    </tr>\n",
       "    <tr>\n",
       "      <td>13850</td>\n",
       "      <td>XBUY</td>\n",
       "      <td>NaN</td>\n",
       "      <td>28.0662</td>\n",
       "      <td>NYSEArca</td>\n",
       "    </tr>\n",
       "    <tr>\n",
       "      <td>13851</td>\n",
       "      <td>YOLO</td>\n",
       "      <td>NaN</td>\n",
       "      <td>11.4800</td>\n",
       "      <td>NYSEArca</td>\n",
       "    </tr>\n",
       "    <tr>\n",
       "      <td>13852</td>\n",
       "      <td>BNKU</td>\n",
       "      <td>NaN</td>\n",
       "      <td>74.3745</td>\n",
       "      <td>YHD</td>\n",
       "    </tr>\n",
       "    <tr>\n",
       "      <td>13853</td>\n",
       "      <td>ARMR</td>\n",
       "      <td>Armor US Equity Index ETF</td>\n",
       "      <td>20.3900</td>\n",
       "      <td>NYSEArca</td>\n",
       "    </tr>\n",
       "  </tbody>\n",
       "</table>\n",
       "<p>13854 rows × 4 columns</p>\n",
       "</div>"
      ],
      "text/plain": [
       "      symbol                                      name     price  \\\n",
       "0        SPY                              SPDR S&P 500  336.9900   \n",
       "1      CMCSA  Comcast Corporation Class A Common Stock   46.0200   \n",
       "2        KMI                        Kinder Morgan Inc.   22.2400   \n",
       "3       INTC                         Intel Corporation   65.4500   \n",
       "4         MU                    Micron Technology Inc.   59.0000   \n",
       "...      ...                                       ...       ...   \n",
       "13849    SWT                                       NaN  105.0700   \n",
       "13850   XBUY                                       NaN   28.0662   \n",
       "13851   YOLO                                       NaN   11.4800   \n",
       "13852   BNKU                                       NaN   74.3745   \n",
       "13853   ARMR                 Armor US Equity Index ETF   20.3900   \n",
       "\n",
       "                      exchange  \n",
       "0                    NYSE Arca  \n",
       "1         Nasdaq Global Select  \n",
       "2      New York Stock Exchange  \n",
       "3         Nasdaq Global Select  \n",
       "4         Nasdaq Global Select  \n",
       "...                        ...  \n",
       "13849                     NYSE  \n",
       "13850                 NYSEArca  \n",
       "13851                 NYSEArca  \n",
       "13852                      YHD  \n",
       "13853                 NYSEArca  \n",
       "\n",
       "[13854 rows x 4 columns]"
      ]
     },
     "execution_count": 47,
     "metadata": {},
     "output_type": "execute_result"
    }
   ],
   "source": []
  },
  {
   "cell_type": "code",
   "execution_count": 49,
   "metadata": {},
   "outputs": [],
   "source": [
    "data = requests.get('https://financialmodelingprep.com/api/v3/historical-price-full/AAPL')"
   ]
  },
  {
   "cell_type": "code",
   "execution_count": 53,
   "metadata": {},
   "outputs": [],
   "source": [
    "data =data.json()"
   ]
  },
  {
   "cell_type": "code",
   "execution_count": 61,
   "metadata": {},
   "outputs": [],
   "source": [
    "data = data['historical']"
   ]
  },
  {
   "cell_type": "code",
   "execution_count": 99,
   "metadata": {},
   "outputs": [
    {
     "data": {
      "text/plain": [
       "{'date': '2020-02-20',\n",
       " 'open': 322.63,\n",
       " 'high': 324.65,\n",
       " 'low': 318.21,\n",
       " 'close': 320.3,\n",
       " 'adjClose': 320.3,\n",
       " 'volume': 25048900.0,\n",
       " 'unadjustedVolume': 25048900.0,\n",
       " 'change': 2.33,\n",
       " 'changePercent': 0.722,\n",
       " 'vwap': 321.05333,\n",
       " 'label': 'February 20, 20',\n",
       " 'changeOverTime': 0.00722}"
      ]
     },
     "execution_count": 99,
     "metadata": {},
     "output_type": "execute_result"
    }
   ],
   "source": [
    "data[-1]"
   ]
  },
  {
   "cell_type": "code",
   "execution_count": 81,
   "metadata": {},
   "outputs": [
    {
     "data": {
      "text/plain": [
       "{1257: {'date': '2020-02-20',\n",
       "  'open': 322.63,\n",
       "  'high': 324.65,\n",
       "  'low': 318.21,\n",
       "  'close': 320.3,\n",
       "  'adjClose': 320.3,\n",
       "  'volume': 25048900.0,\n",
       "  'unadjustedVolume': 25048900.0,\n",
       "  'change': 2.33,\n",
       "  'changePercent': 0.722,\n",
       "  'vwap': 321.05333,\n",
       "  'label': 'February 20, 20',\n",
       "  'changeOverTime': 0.00722}}"
      ]
     },
     "execution_count": 81,
     "metadata": {},
     "output_type": "execute_result"
    }
   ],
   "source": [
    "pd.DataFrame(data).tail(1).to_dict(orient='index')"
   ]
  },
  {
   "cell_type": "code",
   "execution_count": 84,
   "metadata": {},
   "outputs": [],
   "source": [
    "items = ['dict', 'list', 'series', 'split', 'records', 'index']"
   ]
  },
  {
   "cell_type": "code",
   "execution_count": 88,
   "metadata": {},
   "outputs": [
    {
     "name": "stdout",
     "output_type": "stream",
     "text": [
      "dict\n",
      "{'date': {1257: '2020-02-20'}, 'open': {1257: 322.63}, 'high': {1257: 324.65}, 'low': {1257: 318.21}, 'close': {1257: 320.3}, 'adjClose': {1257: 320.3}, 'volume': {1257: 25048900.0}, 'unadjustedVolume': {1257: 25048900.0}, 'change': {1257: 2.33}, 'changePercent': {1257: 0.722}, 'vwap': {1257: 321.05333}, 'label': {1257: 'February 20, 20'}, 'changeOverTime': {1257: 0.00722}}\n",
      "---------\n",
      "list\n",
      "{'date': ['2020-02-20'], 'open': [322.63], 'high': [324.65], 'low': [318.21], 'close': [320.3], 'adjClose': [320.3], 'volume': [25048900.0], 'unadjustedVolume': [25048900.0], 'change': [2.33], 'changePercent': [0.722], 'vwap': [321.05333], 'label': ['February 20, 20'], 'changeOverTime': [0.00722]}\n",
      "---------\n",
      "series\n",
      "{'date': 1257    2020-02-20\n",
      "Name: date, dtype: object, 'open': 1257    322.63\n",
      "Name: open, dtype: float64, 'high': 1257    324.65\n",
      "Name: high, dtype: float64, 'low': 1257    318.21\n",
      "Name: low, dtype: float64, 'close': 1257    320.3\n",
      "Name: close, dtype: float64, 'adjClose': 1257    320.3\n",
      "Name: adjClose, dtype: float64, 'volume': 1257    25048900.0\n",
      "Name: volume, dtype: float64, 'unadjustedVolume': 1257    25048900.0\n",
      "Name: unadjustedVolume, dtype: float64, 'change': 1257    2.33\n",
      "Name: change, dtype: float64, 'changePercent': 1257    0.722\n",
      "Name: changePercent, dtype: float64, 'vwap': 1257    321.05333\n",
      "Name: vwap, dtype: float64, 'label': 1257    February 20, 20\n",
      "Name: label, dtype: object, 'changeOverTime': 1257    0.00722\n",
      "Name: changeOverTime, dtype: float64}\n",
      "---------\n",
      "split\n",
      "{'index': [1257], 'columns': ['date', 'open', 'high', 'low', 'close', 'adjClose', 'volume', 'unadjustedVolume', 'change', 'changePercent', 'vwap', 'label', 'changeOverTime'], 'data': [['2020-02-20', 322.63, 324.65, 318.21, 320.3, 320.3, 25048900.0, 25048900.0, 2.33, 0.722, 321.05333, 'February 20, 20', 0.00722]]}\n",
      "---------\n",
      "records\n",
      "[{'date': '2020-02-20', 'open': 322.63, 'high': 324.65, 'low': 318.21, 'close': 320.3, 'adjClose': 320.3, 'volume': 25048900.0, 'unadjustedVolume': 25048900.0, 'change': 2.33, 'changePercent': 0.722, 'vwap': 321.05333, 'label': 'February 20, 20', 'changeOverTime': 0.00722}]\n",
      "---------\n",
      "index\n",
      "{1257: {'date': '2020-02-20', 'open': 322.63, 'high': 324.65, 'low': 318.21, 'close': 320.3, 'adjClose': 320.3, 'volume': 25048900.0, 'unadjustedVolume': 25048900.0, 'change': 2.33, 'changePercent': 0.722, 'vwap': 321.05333, 'label': 'February 20, 20', 'changeOverTime': 0.00722}}\n",
      "---------\n"
     ]
    }
   ],
   "source": [
    "for item in items:\n",
    "    print(item)\n",
    "    print(pd.DataFrame(data).tail(1).to_dict(orient=item))\n",
    "    print('---------')"
   ]
  },
  {
   "cell_type": "code",
   "execution_count": 97,
   "metadata": {},
   "outputs": [
    {
     "data": {
      "text/plain": [
       "{'date': '2020-02-20',\n",
       " 'open': 322.63,\n",
       " 'high': 324.65,\n",
       " 'low': 318.21,\n",
       " 'close': 320.3,\n",
       " 'adjClose': 320.3,\n",
       " 'volume': 25048900.0,\n",
       " 'unadjustedVolume': 25048900.0,\n",
       " 'change': 2.33,\n",
       " 'changePercent': 0.722,\n",
       " 'vwap': 321.05333,\n",
       " 'label': 'February 20, 20',\n",
       " 'changeOverTime': 0.00722}"
      ]
     },
     "execution_count": 97,
     "metadata": {},
     "output_type": "execute_result"
    }
   ],
   "source": [
    "pd.DataFrame(data).tail(1).to_dict(orient='records')[0]"
   ]
  },
  {
   "cell_type": "code",
   "execution_count": null,
   "metadata": {},
   "outputs": [],
   "source": [
    "‘split’ \n",
    "\n",
    "‘records’ : list like [{column -> value}, … , {column -> value}]\n",
    "\n",
    "‘index’ : dict like {index -> {column -> value}}\n",
    "\n",
    "‘columns’ : dict like {column -> {index -> value}}\n",
    "\n",
    "‘values’ : just the values array\n",
    "\n",
    "‘table’ : dict like {‘schema’: {schema}, ‘data’: {data}}"
   ]
  }
 ],
 "metadata": {
  "kernelspec": {
   "display_name": "Python 3",
   "language": "python",
   "name": "python3"
  },
  "language_info": {
   "codemirror_mode": {
    "name": "ipython",
    "version": 3
   },
   "file_extension": ".py",
   "mimetype": "text/x-python",
   "name": "python",
   "nbconvert_exporter": "python",
   "pygments_lexer": "ipython3",
   "version": "3.7.4"
  }
 },
 "nbformat": 4,
 "nbformat_minor": 4
}
