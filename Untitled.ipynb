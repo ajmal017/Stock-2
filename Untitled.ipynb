{
 "cells": [
  {
   "cell_type": "code",
   "execution_count": 1,
   "metadata": {},
   "outputs": [],
   "source": [
    "import pandas as pd\n",
    "import numpy as np\n",
    "import requests"
   ]
  },
  {
   "cell_type": "code",
   "execution_count": 2,
   "metadata": {},
   "outputs": [],
   "source": [
    "url = 'https://financialmodelingprep.com/api/v3/company/stock/list'"
   ]
  },
  {
   "cell_type": "code",
   "execution_count": 3,
   "metadata": {},
   "outputs": [],
   "source": [
    "data = requests.get(url)"
   ]
  },
  {
   "cell_type": "code",
   "execution_count": 21,
   "metadata": {},
   "outputs": [],
   "source": [
    "df = pd.DataFrame(data.json()['symbolsList'])"
   ]
  },
  {
   "cell_type": "code",
   "execution_count": 22,
   "metadata": {},
   "outputs": [
    {
     "data": {
      "text/plain": [
       "['NYSE Arca',\n",
       " 'Nasdaq Global Select',\n",
       " 'New York Stock Exchange',\n",
       " 'NASDAQ Global Market',\n",
       " 'NASDAQ Capital Market',\n",
       " 'BATS Exchange',\n",
       " 'NYSE American',\n",
       " 'Nasdaq',\n",
       " 'NYSE',\n",
       " 'NasdaqGM',\n",
       " 'NasdaqCM',\n",
       " 'NasdaqGS',\n",
       " 'Other OTC',\n",
       " 'YHD',\n",
       " 'Paris',\n",
       " 'Amsterdam',\n",
       " 'Brussels',\n",
       " 'Lisbon',\n",
       " 'Toronto',\n",
       " 'NYSEArca',\n",
       " 'BATS',\n",
       " nan]"
      ]
     },
     "execution_count": 22,
     "metadata": {},
     "output_type": "execute_result"
    }
   ],
   "source": [
    "df['exchange'].unique().tolist()"
   ]
  },
  {
   "cell_type": "code",
   "execution_count": 25,
   "metadata": {},
   "outputs": [
    {
     "data": {
      "text/plain": [
       "exchange\n",
       "Amsterdam                   132\n",
       "BATS                        119\n",
       "BATS Exchange               258\n",
       "Brussels                    164\n",
       "Lisbon                       50\n",
       "NASDAQ Capital Market       878\n",
       "NASDAQ Global Market        847\n",
       "NYSE                        331\n",
       "NYSE American               344\n",
       "NYSE Arca                  1540\n",
       "NYSEArca                    313\n",
       "Nasdaq                     1534\n",
       "Nasdaq Global Select       1504\n",
       "NasdaqCM                    371\n",
       "NasdaqGM                    138\n",
       "NasdaqGS                    431\n",
       "New York Stock Exchange    2602\n",
       "Other OTC                    10\n",
       "Paris                       844\n",
       "Toronto                    1140\n",
       "YHD                         248\n",
       "Name: symbol, dtype: int64"
      ]
     },
     "execution_count": 25,
     "metadata": {},
     "output_type": "execute_result"
    }
   ],
   "source": [
    "df.groupby('exchange')['symbol'].count()"
   ]
  },
  {
   "cell_type": "code",
   "execution_count": 40,
   "metadata": {},
   "outputs": [],
   "source": [
    "exchanges = [\n",
    " 'New York Stock Exchange',\n",
    " 'Nasdaq']"
   ]
  },
  {
   "cell_type": "code",
   "execution_count": 48,
   "metadata": {},
   "outputs": [],
   "source": [
    "df[df['exchange'].isin(exchanges)].to_json('./stocksList.json',orient='records')"
   ]
  },
  {
   "cell_type": "code",
   "execution_count": 47,
   "metadata": {},
   "outputs": [
    {
     "data": {
      "text/html": [
       "<div>\n",
       "<style scoped>\n",
       "    .dataframe tbody tr th:only-of-type {\n",
       "        vertical-align: middle;\n",
       "    }\n",
       "\n",
       "    .dataframe tbody tr th {\n",
       "        vertical-align: top;\n",
       "    }\n",
       "\n",
       "    .dataframe thead th {\n",
       "        text-align: right;\n",
       "    }\n",
       "</style>\n",
       "<table border=\"1\" class=\"dataframe\">\n",
       "  <thead>\n",
       "    <tr style=\"text-align: right;\">\n",
       "      <th></th>\n",
       "      <th>symbol</th>\n",
       "      <th>name</th>\n",
       "      <th>price</th>\n",
       "      <th>exchange</th>\n",
       "    </tr>\n",
       "  </thead>\n",
       "  <tbody>\n",
       "    <tr>\n",
       "      <td>0</td>\n",
       "      <td>SPY</td>\n",
       "      <td>SPDR S&amp;P 500</td>\n",
       "      <td>336.9900</td>\n",
       "      <td>NYSE Arca</td>\n",
       "    </tr>\n",
       "    <tr>\n",
       "      <td>1</td>\n",
       "      <td>CMCSA</td>\n",
       "      <td>Comcast Corporation Class A Common Stock</td>\n",
       "      <td>46.0200</td>\n",
       "      <td>Nasdaq Global Select</td>\n",
       "    </tr>\n",
       "    <tr>\n",
       "      <td>2</td>\n",
       "      <td>KMI</td>\n",
       "      <td>Kinder Morgan Inc.</td>\n",
       "      <td>22.2400</td>\n",
       "      <td>New York Stock Exchange</td>\n",
       "    </tr>\n",
       "    <tr>\n",
       "      <td>3</td>\n",
       "      <td>INTC</td>\n",
       "      <td>Intel Corporation</td>\n",
       "      <td>65.4500</td>\n",
       "      <td>Nasdaq Global Select</td>\n",
       "    </tr>\n",
       "    <tr>\n",
       "      <td>4</td>\n",
       "      <td>MU</td>\n",
       "      <td>Micron Technology Inc.</td>\n",
       "      <td>59.0000</td>\n",
       "      <td>Nasdaq Global Select</td>\n",
       "    </tr>\n",
       "    <tr>\n",
       "      <td>...</td>\n",
       "      <td>...</td>\n",
       "      <td>...</td>\n",
       "      <td>...</td>\n",
       "      <td>...</td>\n",
       "    </tr>\n",
       "    <tr>\n",
       "      <td>13849</td>\n",
       "      <td>SWT</td>\n",
       "      <td>NaN</td>\n",
       "      <td>105.0700</td>\n",
       "      <td>NYSE</td>\n",
       "    </tr>\n",
       "    <tr>\n",
       "      <td>13850</td>\n",
       "      <td>XBUY</td>\n",
       "      <td>NaN</td>\n",
       "      <td>28.0662</td>\n",
       "      <td>NYSEArca</td>\n",
       "    </tr>\n",
       "    <tr>\n",
       "      <td>13851</td>\n",
       "      <td>YOLO</td>\n",
       "      <td>NaN</td>\n",
       "      <td>11.4800</td>\n",
       "      <td>NYSEArca</td>\n",
       "    </tr>\n",
       "    <tr>\n",
       "      <td>13852</td>\n",
       "      <td>BNKU</td>\n",
       "      <td>NaN</td>\n",
       "      <td>74.3745</td>\n",
       "      <td>YHD</td>\n",
       "    </tr>\n",
       "    <tr>\n",
       "      <td>13853</td>\n",
       "      <td>ARMR</td>\n",
       "      <td>Armor US Equity Index ETF</td>\n",
       "      <td>20.3900</td>\n",
       "      <td>NYSEArca</td>\n",
       "    </tr>\n",
       "  </tbody>\n",
       "</table>\n",
       "<p>13854 rows × 4 columns</p>\n",
       "</div>"
      ],
      "text/plain": [
       "      symbol                                      name     price  \\\n",
       "0        SPY                              SPDR S&P 500  336.9900   \n",
       "1      CMCSA  Comcast Corporation Class A Common Stock   46.0200   \n",
       "2        KMI                        Kinder Morgan Inc.   22.2400   \n",
       "3       INTC                         Intel Corporation   65.4500   \n",
       "4         MU                    Micron Technology Inc.   59.0000   \n",
       "...      ...                                       ...       ...   \n",
       "13849    SWT                                       NaN  105.0700   \n",
       "13850   XBUY                                       NaN   28.0662   \n",
       "13851   YOLO                                       NaN   11.4800   \n",
       "13852   BNKU                                       NaN   74.3745   \n",
       "13853   ARMR                 Armor US Equity Index ETF   20.3900   \n",
       "\n",
       "                      exchange  \n",
       "0                    NYSE Arca  \n",
       "1         Nasdaq Global Select  \n",
       "2      New York Stock Exchange  \n",
       "3         Nasdaq Global Select  \n",
       "4         Nasdaq Global Select  \n",
       "...                        ...  \n",
       "13849                     NYSE  \n",
       "13850                 NYSEArca  \n",
       "13851                 NYSEArca  \n",
       "13852                      YHD  \n",
       "13853                 NYSEArca  \n",
       "\n",
       "[13854 rows x 4 columns]"
      ]
     },
     "execution_count": 47,
     "metadata": {},
     "output_type": "execute_result"
    }
   ],
   "source": []
  },
  {
   "cell_type": "code",
   "execution_count": null,
   "metadata": {},
   "outputs": [],
   "source": []
  }
 ],
 "metadata": {
  "kernelspec": {
   "display_name": "Python 3",
   "language": "python",
   "name": "python3"
  },
  "language_info": {
   "codemirror_mode": {
    "name": "ipython",
    "version": 3
   },
   "file_extension": ".py",
   "mimetype": "text/x-python",
   "name": "python",
   "nbconvert_exporter": "python",
   "pygments_lexer": "ipython3",
   "version": "3.7.4"
  }
 },
 "nbformat": 4,
 "nbformat_minor": 4
}
