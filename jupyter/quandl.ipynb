{
 "cells": [
  {
   "cell_type": "code",
   "execution_count": 20,
   "metadata": {},
   "outputs": [
    {
     "name": "stdout",
     "output_type": "stream",
     "text": [
      "Collecting quandl\n",
      "  Downloading https://files.pythonhosted.org/packages/07/ab/8cd479fba8a9b197a43a0d55dd534b066fb8e5a0a04b5c0384cbc5d663aa/Quandl-3.5.0-py2.py3-none-any.whl\n",
      "Requirement already satisfied: numpy>=1.8 in /home/igna/anaconda3/lib/python3.7/site-packages (from quandl) (1.17.2)\n",
      "Requirement already satisfied: six in /home/igna/anaconda3/lib/python3.7/site-packages (from quandl) (1.12.0)\n",
      "Requirement already satisfied: pandas>=0.14 in /home/igna/anaconda3/lib/python3.7/site-packages (from quandl) (0.25.1)\n",
      "Requirement already satisfied: requests>=2.7.0 in /home/igna/anaconda3/lib/python3.7/site-packages (from quandl) (2.22.0)\n",
      "Requirement already satisfied: more-itertools in /home/igna/anaconda3/lib/python3.7/site-packages (from quandl) (7.2.0)\n",
      "Requirement already satisfied: python-dateutil in /home/igna/anaconda3/lib/python3.7/site-packages (from quandl) (2.8.0)\n",
      "Collecting inflection>=0.3.1 (from quandl)\n",
      "  Downloading https://files.pythonhosted.org/packages/d5/35/a6eb45b4e2356fe688b21570864d4aa0d0a880ce387defe9c589112077f8/inflection-0.3.1.tar.gz\n",
      "Requirement already satisfied: pytz>=2017.2 in /home/igna/anaconda3/lib/python3.7/site-packages (from pandas>=0.14->quandl) (2019.3)\n",
      "Requirement already satisfied: certifi>=2017.4.17 in /home/igna/anaconda3/lib/python3.7/site-packages (from requests>=2.7.0->quandl) (2019.9.11)\n",
      "Requirement already satisfied: idna<2.9,>=2.5 in /home/igna/anaconda3/lib/python3.7/site-packages (from requests>=2.7.0->quandl) (2.8)\n",
      "Requirement already satisfied: chardet<3.1.0,>=3.0.2 in /home/igna/anaconda3/lib/python3.7/site-packages (from requests>=2.7.0->quandl) (3.0.4)\n",
      "Requirement already satisfied: urllib3!=1.25.0,!=1.25.1,<1.26,>=1.21.1 in /home/igna/anaconda3/lib/python3.7/site-packages (from requests>=2.7.0->quandl) (1.24.2)\n",
      "Building wheels for collected packages: inflection\n",
      "  Building wheel for inflection (setup.py) ... \u001b[?25ldone\n",
      "\u001b[?25h  Created wheel for inflection: filename=inflection-0.3.1-cp37-none-any.whl size=6075 sha256=4051ddabde6319d41e04ecd9f4f0e06d42fb9e90a89cf2ffbda570123ce49094\n",
      "  Stored in directory: /home/igna/.cache/pip/wheels/9f/5a/d3/6fc3bf6516d2a3eb7e18f9f28b472110b59325f3f258fe9211\n",
      "Successfully built inflection\n",
      "Installing collected packages: inflection, quandl\n",
      "Successfully installed inflection-0.3.1 quandl-3.5.0\n"
     ]
    }
   ],
   "source": [
    "!pip install quandl"
   ]
  },
  {
   "cell_type": "code",
   "execution_count": 21,
   "metadata": {},
   "outputs": [],
   "source": [
    "import pandas as pd\n",
    "import requests\n",
    "import quandl\n"
   ]
  },
  {
   "cell_type": "code",
   "execution_count": 22,
   "metadata": {},
   "outputs": [],
   "source": [
    "api_key='o2eSDNtdGRxZ4F59ep39'"
   ]
  },
  {
   "cell_type": "code",
   "execution_count": 23,
   "metadata": {},
   "outputs": [],
   "source": [
    "quandl.ApiConfig.api_key = api_key"
   ]
  },
  {
   "cell_type": "code",
   "execution_count": 7,
   "metadata": {},
   "outputs": [],
   "source": [
    "symbol='ADYEN'"
   ]
  },
  {
   "cell_type": "code",
   "execution_count": 12,
   "metadata": {},
   "outputs": [],
   "source": [
    "url=f'https://www.quandl.com/api/v3/datasets/EURONEXT/{symbol}.json?api_key={api_key}'"
   ]
  },
  {
   "cell_type": "code",
   "execution_count": 19,
   "metadata": {},
   "outputs": [],
   "source": [
    "res = requests.get(url).json()"
   ]
  },
  {
   "cell_type": "code",
   "execution_count": 35,
   "metadata": {},
   "outputs": [
    {
     "data": {
      "text/html": [
       "<div>\n",
       "<style scoped>\n",
       "    .dataframe tbody tr th:only-of-type {\n",
       "        vertical-align: middle;\n",
       "    }\n",
       "\n",
       "    .dataframe tbody tr th {\n",
       "        vertical-align: top;\n",
       "    }\n",
       "\n",
       "    .dataframe thead th {\n",
       "        text-align: right;\n",
       "    }\n",
       "</style>\n",
       "<table border=\"1\" class=\"dataframe\">\n",
       "  <thead>\n",
       "    <tr style=\"text-align: right;\">\n",
       "      <th></th>\n",
       "      <th>Open</th>\n",
       "      <th>High</th>\n",
       "      <th>Low</th>\n",
       "      <th>Last</th>\n",
       "      <th>Volume</th>\n",
       "      <th>Turnover</th>\n",
       "    </tr>\n",
       "    <tr>\n",
       "      <th>Date</th>\n",
       "      <th></th>\n",
       "      <th></th>\n",
       "      <th></th>\n",
       "      <th></th>\n",
       "      <th></th>\n",
       "      <th></th>\n",
       "    </tr>\n",
       "  </thead>\n",
       "  <tbody>\n",
       "    <tr>\n",
       "      <td>2014-02-14</td>\n",
       "      <td>51.67</td>\n",
       "      <td>51.75</td>\n",
       "      <td>50.91</td>\n",
       "      <td>50.91</td>\n",
       "      <td>7354.0</td>\n",
       "      <td>376138.22</td>\n",
       "    </tr>\n",
       "    <tr>\n",
       "      <td>2014-02-17</td>\n",
       "      <td>51.00</td>\n",
       "      <td>51.80</td>\n",
       "      <td>51.00</td>\n",
       "      <td>51.40</td>\n",
       "      <td>4910.0</td>\n",
       "      <td>253044.35</td>\n",
       "    </tr>\n",
       "    <tr>\n",
       "      <td>2014-02-18</td>\n",
       "      <td>51.40</td>\n",
       "      <td>51.66</td>\n",
       "      <td>51.02</td>\n",
       "      <td>51.04</td>\n",
       "      <td>9160.0</td>\n",
       "      <td>470617.66</td>\n",
       "    </tr>\n",
       "    <tr>\n",
       "      <td>2014-02-19</td>\n",
       "      <td>51.04</td>\n",
       "      <td>51.30</td>\n",
       "      <td>50.92</td>\n",
       "      <td>51.23</td>\n",
       "      <td>8805.0</td>\n",
       "      <td>450087.74</td>\n",
       "    </tr>\n",
       "    <tr>\n",
       "      <td>2014-02-20</td>\n",
       "      <td>51.17</td>\n",
       "      <td>51.60</td>\n",
       "      <td>51.00</td>\n",
       "      <td>51.60</td>\n",
       "      <td>7647.0</td>\n",
       "      <td>391819.47</td>\n",
       "    </tr>\n",
       "    <tr>\n",
       "      <td>...</td>\n",
       "      <td>...</td>\n",
       "      <td>...</td>\n",
       "      <td>...</td>\n",
       "      <td>...</td>\n",
       "      <td>...</td>\n",
       "      <td>...</td>\n",
       "    </tr>\n",
       "    <tr>\n",
       "      <td>2020-02-18</td>\n",
       "      <td>134.60</td>\n",
       "      <td>136.60</td>\n",
       "      <td>133.80</td>\n",
       "      <td>136.40</td>\n",
       "      <td>32814.0</td>\n",
       "      <td>4450878.00</td>\n",
       "    </tr>\n",
       "    <tr>\n",
       "      <td>2020-02-19</td>\n",
       "      <td>136.60</td>\n",
       "      <td>139.20</td>\n",
       "      <td>134.40</td>\n",
       "      <td>134.80</td>\n",
       "      <td>53018.0</td>\n",
       "      <td>7205130.00</td>\n",
       "    </tr>\n",
       "    <tr>\n",
       "      <td>2020-02-20</td>\n",
       "      <td>134.80</td>\n",
       "      <td>136.20</td>\n",
       "      <td>132.80</td>\n",
       "      <td>133.40</td>\n",
       "      <td>67975.0</td>\n",
       "      <td>9097888.00</td>\n",
       "    </tr>\n",
       "    <tr>\n",
       "      <td>2020-02-21</td>\n",
       "      <td>133.40</td>\n",
       "      <td>135.80</td>\n",
       "      <td>133.20</td>\n",
       "      <td>134.00</td>\n",
       "      <td>44392.0</td>\n",
       "      <td>5961597.00</td>\n",
       "    </tr>\n",
       "    <tr>\n",
       "      <td>2020-02-24</td>\n",
       "      <td>132.00</td>\n",
       "      <td>132.20</td>\n",
       "      <td>128.00</td>\n",
       "      <td>129.40</td>\n",
       "      <td>71641.0</td>\n",
       "      <td>9283476.00</td>\n",
       "    </tr>\n",
       "  </tbody>\n",
       "</table>\n",
       "<p>1503 rows × 6 columns</p>\n",
       "</div>"
      ],
      "text/plain": [
       "              Open    High     Low    Last   Volume    Turnover\n",
       "Date                                                           \n",
       "2014-02-14   51.67   51.75   50.91   50.91   7354.0   376138.22\n",
       "2014-02-17   51.00   51.80   51.00   51.40   4910.0   253044.35\n",
       "2014-02-18   51.40   51.66   51.02   51.04   9160.0   470617.66\n",
       "2014-02-19   51.04   51.30   50.92   51.23   8805.0   450087.74\n",
       "2014-02-20   51.17   51.60   51.00   51.60   7647.0   391819.47\n",
       "...            ...     ...     ...     ...      ...         ...\n",
       "2020-02-18  134.60  136.60  133.80  136.40  32814.0  4450878.00\n",
       "2020-02-19  136.60  139.20  134.40  134.80  53018.0  7205130.00\n",
       "2020-02-20  134.80  136.20  132.80  133.40  67975.0  9097888.00\n",
       "2020-02-21  133.40  135.80  133.20  134.00  44392.0  5961597.00\n",
       "2020-02-24  132.00  132.20  128.00  129.40  71641.0  9283476.00\n",
       "\n",
       "[1503 rows x 6 columns]"
      ]
     },
     "execution_count": 35,
     "metadata": {},
     "output_type": "execute_result"
    }
   ],
   "source": [
    "quandl.get(\"EURONEXT/AED\")"
   ]
  },
  {
   "cell_type": "code",
   "execution_count": 8,
   "metadata": {},
   "outputs": [],
   "source": [
    "import yfinance as yf"
   ]
  },
  {
   "cell_type": "code",
   "execution_count": 9,
   "metadata": {},
   "outputs": [],
   "source": [
    "ticker_list = 'GS BAC'"
   ]
  },
  {
   "cell_type": "code",
   "execution_count": 10,
   "metadata": {},
   "outputs": [],
   "source": [
    "tickers = yf.Tickers(ticker_list)"
   ]
  },
  {
   "cell_type": "code",
   "execution_count": 11,
   "metadata": {},
   "outputs": [
    {
     "name": "stdout",
     "output_type": "stream",
     "text": [
      "[*********************100%***********************]  2 of 2 completed\n"
     ]
    }
   ],
   "source": [
    "df = tickers.download(period='max',start='2007-1-1')['Close']"
   ]
  },
  {
   "cell_type": "code",
   "execution_count": 12,
   "metadata": {},
   "outputs": [],
   "source": [
    "df = df.dropna(how='any')"
   ]
  },
  {
   "cell_type": "code",
   "execution_count": 13,
   "metadata": {},
   "outputs": [
    {
     "ename": "AttributeError",
     "evalue": "'AxesSubplot' object has no attribute 'show'",
     "output_type": "error",
     "traceback": [
      "\u001b[0;31m---------------------------------------------------------------------------\u001b[0m",
      "\u001b[0;31mAttributeError\u001b[0m                            Traceback (most recent call last)",
      "\u001b[0;32m<ipython-input-13-fcdf34115fa6>\u001b[0m in \u001b[0;36m<module>\u001b[0;34m\u001b[0m\n\u001b[0;32m----> 1\u001b[0;31m \u001b[0mdf\u001b[0m\u001b[0;34m.\u001b[0m\u001b[0mresample\u001b[0m\u001b[0;34m(\u001b[0m\u001b[0;34m'2Q'\u001b[0m\u001b[0;34m)\u001b[0m\u001b[0;34m.\u001b[0m\u001b[0mmean\u001b[0m\u001b[0;34m(\u001b[0m\u001b[0;34m)\u001b[0m\u001b[0;34m.\u001b[0m\u001b[0mpct_change\u001b[0m\u001b[0;34m(\u001b[0m\u001b[0;34m)\u001b[0m\u001b[0;34m.\u001b[0m\u001b[0mfillna\u001b[0m\u001b[0;34m(\u001b[0m\u001b[0mvalue\u001b[0m\u001b[0;34m=\u001b[0m\u001b[0;36m0\u001b[0m\u001b[0;34m)\u001b[0m\u001b[0;34m.\u001b[0m\u001b[0mplot\u001b[0m\u001b[0;34m(\u001b[0m\u001b[0;34m)\u001b[0m\u001b[0;34m.\u001b[0m\u001b[0mshow\u001b[0m\u001b[0;34m(\u001b[0m\u001b[0;34m)\u001b[0m\u001b[0;34m\u001b[0m\u001b[0;34m\u001b[0m\u001b[0m\n\u001b[0m",
      "\u001b[0;31mAttributeError\u001b[0m: 'AxesSubplot' object has no attribute 'show'"
     ]
    },
    {
     "data": {
      "image/png": "[encoded data removed]",
      "text/plain": [
       "<Figure size 432x288 with 1 Axes>"
      ]
     },
     "metadata": {
      "needs_background": "light"
     },
     "output_type": "display_data"
    }
   ],
   "source": [
    "df.resample('2Q').mean().pct_change().fillna(value=0).plot().show()\n"
   ]
  },
  {
   "cell_type": "code",
   "execution_count": null,
   "metadata": {},
   "outputs": [],
   "source": [
    "df.to_dict(orient='records')[-1]"
   ]
  },
  {
   "cell_type": "code",
   "execution_count": 199,
   "metadata": {},
   "outputs": [],
   "source": [
    "df = df.dropna(how='any').reset_index()\n",
    "df['Date']=pd.to_datetime(df['Date']).dt.date"
   ]
  },
  {
   "cell_type": "code",
   "execution_count": 187,
   "metadata": {},
   "outputs": [
    {
     "data": {
      "text/plain": [
       "FrozenList([['Close', 'Dividends', 'High', 'Low', 'Open', 'Stock Splits', 'Volume', 'Date'], ['BAC', 'GS', '']])"
      ]
     },
     "execution_count": 187,
     "metadata": {},
     "output_type": "execute_result"
    }
   ],
   "source": [
    "df.columns.levels"
   ]
  },
  {
   "cell_type": "code",
   "execution_count": 191,
   "metadata": {},
   "outputs": [
    {
     "data": {
      "text/html": [
       "<div>\n",
       "<style scoped>\n",
       "    .dataframe tbody tr th:only-of-type {\n",
       "        vertical-align: middle;\n",
       "    }\n",
       "\n",
       "    .dataframe tbody tr th {\n",
       "        vertical-align: top;\n",
       "    }\n",
       "\n",
       "    .dataframe thead th {\n",
       "        text-align: right;\n",
       "    }\n",
       "</style>\n",
       "<table border=\"1\" class=\"dataframe\">\n",
       "  <thead>\n",
       "    <tr style=\"text-align: right;\">\n",
       "      <th></th>\n",
       "      <th>BAC</th>\n",
       "      <th>GS</th>\n",
       "    </tr>\n",
       "  </thead>\n",
       "  <tbody>\n",
       "    <tr>\n",
       "      <td>0</td>\n",
       "      <td>41.983715</td>\n",
       "      <td>169.978470</td>\n",
       "    </tr>\n",
       "    <tr>\n",
       "      <td>1</td>\n",
       "      <td>42.251362</td>\n",
       "      <td>168.394852</td>\n",
       "    </tr>\n",
       "    <tr>\n",
       "      <td>2</td>\n",
       "      <td>41.912861</td>\n",
       "      <td>168.564255</td>\n",
       "    </tr>\n",
       "    <tr>\n",
       "      <td>3</td>\n",
       "      <td>42.078175</td>\n",
       "      <td>172.527481</td>\n",
       "    </tr>\n",
       "    <tr>\n",
       "      <td>4</td>\n",
       "      <td>42.117538</td>\n",
       "      <td>172.823853</td>\n",
       "    </tr>\n",
       "    <tr>\n",
       "      <td>...</td>\n",
       "      <td>...</td>\n",
       "      <td>...</td>\n",
       "    </tr>\n",
       "    <tr>\n",
       "      <td>3305</td>\n",
       "      <td>34.849998</td>\n",
       "      <td>232.729996</td>\n",
       "    </tr>\n",
       "    <tr>\n",
       "      <td>3306</td>\n",
       "      <td>34.360001</td>\n",
       "      <td>230.619995</td>\n",
       "    </tr>\n",
       "    <tr>\n",
       "      <td>3307</td>\n",
       "      <td>32.730000</td>\n",
       "      <td>224.539993</td>\n",
       "    </tr>\n",
       "    <tr>\n",
       "      <td>3308</td>\n",
       "      <td>31.080000</td>\n",
       "      <td>217.610001</td>\n",
       "    </tr>\n",
       "    <tr>\n",
       "      <td>3309</td>\n",
       "      <td>30.705000</td>\n",
       "      <td>216.710007</td>\n",
       "    </tr>\n",
       "  </tbody>\n",
       "</table>\n",
       "<p>3310 rows × 2 columns</p>\n",
       "</div>"
      ],
      "text/plain": [
       "            BAC          GS\n",
       "0     41.983715  169.978470\n",
       "1     42.251362  168.394852\n",
       "2     41.912861  168.564255\n",
       "3     42.078175  172.527481\n",
       "4     42.117538  172.823853\n",
       "...         ...         ...\n",
       "3305  34.849998  232.729996\n",
       "3306  34.360001  230.619995\n",
       "3307  32.730000  224.539993\n",
       "3308  31.080000  217.610001\n",
       "3309  30.705000  216.710007\n",
       "\n",
       "[3310 rows x 2 columns]"
      ]
     },
     "execution_count": 191,
     "metadata": {},
     "output_type": "execute_result"
    }
   ],
   "source": [
    "df.xs('Close', axis=1)"
   ]
  },
  {
   "cell_type": "code",
   "execution_count": 148,
   "metadata": {},
   "outputs": [
    {
     "data": {
      "text/html": [
       "<div>\n",
       "<style scoped>\n",
       "    .dataframe tbody tr th:only-of-type {\n",
       "        vertical-align: middle;\n",
       "    }\n",
       "\n",
       "    .dataframe tbody tr th {\n",
       "        vertical-align: top;\n",
       "    }\n",
       "\n",
       "    .dataframe thead th {\n",
       "        text-align: right;\n",
       "    }\n",
       "</style>\n",
       "<table border=\"1\" class=\"dataframe\">\n",
       "  <thead>\n",
       "    <tr style=\"text-align: right;\">\n",
       "      <th></th>\n",
       "      <th>index</th>\n",
       "      <th>BAC</th>\n",
       "      <th>F</th>\n",
       "      <th>GE</th>\n",
       "      <th>GS</th>\n",
       "    </tr>\n",
       "    <tr>\n",
       "      <th>Date</th>\n",
       "      <th></th>\n",
       "      <th></th>\n",
       "      <th></th>\n",
       "      <th></th>\n",
       "      <th></th>\n",
       "    </tr>\n",
       "  </thead>\n",
       "  <tbody>\n",
       "    <tr>\n",
       "      <td>1999-05-04</td>\n",
       "      <td>0</td>\n",
       "      <td>16.716362</td>\n",
       "      <td>18.154510</td>\n",
       "      <td>17.404280</td>\n",
       "      <td>56.159458</td>\n",
       "    </tr>\n",
       "    <tr>\n",
       "      <td>1999-05-05</td>\n",
       "      <td>1</td>\n",
       "      <td>16.835018</td>\n",
       "      <td>18.225290</td>\n",
       "      <td>18.078066</td>\n",
       "      <td>55.161922</td>\n",
       "    </tr>\n",
       "    <tr>\n",
       "      <td>1999-05-06</td>\n",
       "      <td>2</td>\n",
       "      <td>16.493864</td>\n",
       "      <td>17.694454</td>\n",
       "      <td>17.953678</td>\n",
       "      <td>54.214314</td>\n",
       "    </tr>\n",
       "    <tr>\n",
       "      <td>1999-05-07</td>\n",
       "      <td>3</td>\n",
       "      <td>16.686689</td>\n",
       "      <td>18.366848</td>\n",
       "      <td>18.233557</td>\n",
       "      <td>59.151947</td>\n",
       "    </tr>\n",
       "    <tr>\n",
       "      <td>1999-05-10</td>\n",
       "      <td>4</td>\n",
       "      <td>16.404873</td>\n",
       "      <td>18.136816</td>\n",
       "      <td>18.036606</td>\n",
       "      <td>56.408821</td>\n",
       "    </tr>\n",
       "    <tr>\n",
       "      <td>...</td>\n",
       "      <td>...</td>\n",
       "      <td>...</td>\n",
       "      <td>...</td>\n",
       "      <td>...</td>\n",
       "      <td>...</td>\n",
       "    </tr>\n",
       "    <tr>\n",
       "      <td>2020-02-19</td>\n",
       "      <td>5232</td>\n",
       "      <td>34.720001</td>\n",
       "      <td>8.000000</td>\n",
       "      <td>12.610000</td>\n",
       "      <td>237.330002</td>\n",
       "    </tr>\n",
       "    <tr>\n",
       "      <td>2020-02-20</td>\n",
       "      <td>5233</td>\n",
       "      <td>34.849998</td>\n",
       "      <td>8.030000</td>\n",
       "      <td>12.530000</td>\n",
       "      <td>232.729996</td>\n",
       "    </tr>\n",
       "    <tr>\n",
       "      <td>2020-02-21</td>\n",
       "      <td>5234</td>\n",
       "      <td>34.360001</td>\n",
       "      <td>7.890000</td>\n",
       "      <td>12.250000</td>\n",
       "      <td>230.619995</td>\n",
       "    </tr>\n",
       "    <tr>\n",
       "      <td>2020-02-24</td>\n",
       "      <td>5235</td>\n",
       "      <td>32.730000</td>\n",
       "      <td>7.570000</td>\n",
       "      <td>11.860000</td>\n",
       "      <td>224.539993</td>\n",
       "    </tr>\n",
       "    <tr>\n",
       "      <td>2020-02-25</td>\n",
       "      <td>5236</td>\n",
       "      <td>30.865000</td>\n",
       "      <td>7.255000</td>\n",
       "      <td>11.265000</td>\n",
       "      <td>216.779999</td>\n",
       "    </tr>\n",
       "  </tbody>\n",
       "</table>\n",
       "<p>5237 rows × 5 columns</p>\n",
       "</div>"
      ],
      "text/plain": [
       "            index        BAC          F         GE          GS\n",
       "Date                                                          \n",
       "1999-05-04      0  16.716362  18.154510  17.404280   56.159458\n",
       "1999-05-05      1  16.835018  18.225290  18.078066   55.161922\n",
       "1999-05-06      2  16.493864  17.694454  17.953678   54.214314\n",
       "1999-05-07      3  16.686689  18.366848  18.233557   59.151947\n",
       "1999-05-10      4  16.404873  18.136816  18.036606   56.408821\n",
       "...           ...        ...        ...        ...         ...\n",
       "2020-02-19   5232  34.720001   8.000000  12.610000  237.330002\n",
       "2020-02-20   5233  34.849998   8.030000  12.530000  232.729996\n",
       "2020-02-21   5234  34.360001   7.890000  12.250000  230.619995\n",
       "2020-02-24   5235  32.730000   7.570000  11.860000  224.539993\n",
       "2020-02-25   5236  30.865000   7.255000  11.265000  216.779999\n",
       "\n",
       "[5237 rows x 5 columns]"
      ]
     },
     "execution_count": 148,
     "metadata": {},
     "output_type": "execute_result"
    }
   ],
   "source": [
    "pd.DataFrame.from_dict(di).set_index('Date')"
   ]
  },
  {
   "cell_type": "code",
   "execution_count": null,
   "metadata": {},
   "outputs": [],
   "source": []
  }
 ],
 "metadata": {
  "kernelspec": {
   "display_name": "Python 3",
   "language": "python",
   "name": "python3"
  },
  "language_info": {
   "codemirror_mode": {
    "name": "ipython",
    "version": 3
   },
   "file_extension": ".py",
   "mimetype": "text/x-python",
   "name": "python",
   "nbconvert_exporter": "python",
   "pygments_lexer": "ipython3",
   "version": "3.7.4"
  }
 },
 "nbformat": 4,
 "nbformat_minor": 4
}
