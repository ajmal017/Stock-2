{
 "cells": [
  {
   "cell_type": "code",
   "execution_count": 4,
   "metadata": {},
   "outputs": [],
   "source": [
    "import pandas as pd\n",
    "import numpy as np\n",
    "import requests\n",
    "import json"
   ]
  },
  {
   "cell_type": "code",
   "execution_count": 2,
   "metadata": {},
   "outputs": [],
   "source": [
    "url = 'https://financialmodelingprep.com/api/v3/company/stock/list'"
   ]
  },
  {
   "cell_type": "code",
   "execution_count": 3,
   "metadata": {},
   "outputs": [],
   "source": [
    "data = requests.get(url)"
   ]
  },
  {
   "cell_type": "code",
   "execution_count": 21,
   "metadata": {},
   "outputs": [],
   "source": [
    "df = pd.DataFrame(data.json()['symbolsList'])"
   ]
  },
  {
   "cell_type": "code",
   "execution_count": 22,
   "metadata": {},
   "outputs": [
    {
     "data": {
      "text/plain": [
       "['NYSE Arca',\n",
       " 'Nasdaq Global Select',\n",
       " 'New York Stock Exchange',\n",
       " 'NASDAQ Global Market',\n",
       " 'NASDAQ Capital Market',\n",
       " 'BATS Exchange',\n",
       " 'NYSE American',\n",
       " 'Nasdaq',\n",
       " 'NYSE',\n",
       " 'NasdaqGM',\n",
       " 'NasdaqCM',\n",
       " 'NasdaqGS',\n",
       " 'Other OTC',\n",
       " 'YHD',\n",
       " 'Paris',\n",
       " 'Amsterdam',\n",
       " 'Brussels',\n",
       " 'Lisbon',\n",
       " 'Toronto',\n",
       " 'NYSEArca',\n",
       " 'BATS',\n",
       " nan]"
      ]
     },
     "execution_count": 22,
     "metadata": {},
     "output_type": "execute_result"
    }
   ],
   "source": [
    "df['exchange'].unique().tolist()"
   ]
  },
  {
   "cell_type": "code",
   "execution_count": 25,
   "metadata": {},
   "outputs": [
    {
     "data": {
      "text/plain": [
       "exchange\n",
       "Amsterdam                   132\n",
       "BATS                        119\n",
       "BATS Exchange               258\n",
       "Brussels                    164\n",
       "Lisbon                       50\n",
       "NASDAQ Capital Market       878\n",
       "NASDAQ Global Market        847\n",
       "NYSE                        331\n",
       "NYSE American               344\n",
       "NYSE Arca                  1540\n",
       "NYSEArca                    313\n",
       "Nasdaq                     1534\n",
       "Nasdaq Global Select       1504\n",
       "NasdaqCM                    371\n",
       "NasdaqGM                    138\n",
       "NasdaqGS                    431\n",
       "New York Stock Exchange    2602\n",
       "Other OTC                    10\n",
       "Paris                       844\n",
       "Toronto                    1140\n",
       "YHD                         248\n",
       "Name: symbol, dtype: int64"
      ]
     },
     "execution_count": 25,
     "metadata": {},
     "output_type": "execute_result"
    }
   ],
   "source": [
    "df.groupby('exchange')['symbol'].count()"
   ]
  },
  {
   "cell_type": "code",
   "execution_count": 40,
   "metadata": {},
   "outputs": [],
   "source": [
    "exchanges = [\n",
    " 'New York Stock Exchange',\n",
    " 'Nasdaq']"
   ]
  },
  {
   "cell_type": "code",
   "execution_count": 48,
   "metadata": {},
   "outputs": [],
   "source": [
    "df[df['exchange'].isin(exchanges)].to_json('./stocksList.json',orient='records')"
   ]
  },
  {
   "cell_type": "code",
   "execution_count": 47,
   "metadata": {},
   "outputs": [
    {
     "data": {
      "text/html": [
       "<div>\n",
       "<style scoped>\n",
       "    .dataframe tbody tr th:only-of-type {\n",
       "        vertical-align: middle;\n",
       "    }\n",
       "\n",
       "    .dataframe tbody tr th {\n",
       "        vertical-align: top;\n",
       "    }\n",
       "\n",
       "    .dataframe thead th {\n",
       "        text-align: right;\n",
       "    }\n",
       "</style>\n",
       "<table border=\"1\" class=\"dataframe\">\n",
       "  <thead>\n",
       "    <tr style=\"text-align: right;\">\n",
       "      <th></th>\n",
       "      <th>symbol</th>\n",
       "      <th>name</th>\n",
       "      <th>price</th>\n",
       "      <th>exchange</th>\n",
       "    </tr>\n",
       "  </thead>\n",
       "  <tbody>\n",
       "    <tr>\n",
       "      <td>0</td>\n",
       "      <td>SPY</td>\n",
       "      <td>SPDR S&amp;P 500</td>\n",
       "      <td>336.9900</td>\n",
       "      <td>NYSE Arca</td>\n",
       "    </tr>\n",
       "    <tr>\n",
       "      <td>1</td>\n",
       "      <td>CMCSA</td>\n",
       "      <td>Comcast Corporation Class A Common Stock</td>\n",
       "      <td>46.0200</td>\n",
       "      <td>Nasdaq Global Select</td>\n",
       "    </tr>\n",
       "    <tr>\n",
       "      <td>2</td>\n",
       "      <td>KMI</td>\n",
       "      <td>Kinder Morgan Inc.</td>\n",
       "      <td>22.2400</td>\n",
       "      <td>New York Stock Exchange</td>\n",
       "    </tr>\n",
       "    <tr>\n",
       "      <td>3</td>\n",
       "      <td>INTC</td>\n",
       "      <td>Intel Corporation</td>\n",
       "      <td>65.4500</td>\n",
       "      <td>Nasdaq Global Select</td>\n",
       "    </tr>\n",
       "    <tr>\n",
       "      <td>4</td>\n",
       "      <td>MU</td>\n",
       "      <td>Micron Technology Inc.</td>\n",
       "      <td>59.0000</td>\n",
       "      <td>Nasdaq Global Select</td>\n",
       "    </tr>\n",
       "    <tr>\n",
       "      <td>...</td>\n",
       "      <td>...</td>\n",
       "      <td>...</td>\n",
       "      <td>...</td>\n",
       "      <td>...</td>\n",
       "    </tr>\n",
       "    <tr>\n",
       "      <td>13849</td>\n",
       "      <td>SWT</td>\n",
       "      <td>NaN</td>\n",
       "      <td>105.0700</td>\n",
       "      <td>NYSE</td>\n",
       "    </tr>\n",
       "    <tr>\n",
       "      <td>13850</td>\n",
       "      <td>XBUY</td>\n",
       "      <td>NaN</td>\n",
       "      <td>28.0662</td>\n",
       "      <td>NYSEArca</td>\n",
       "    </tr>\n",
       "    <tr>\n",
       "      <td>13851</td>\n",
       "      <td>YOLO</td>\n",
       "      <td>NaN</td>\n",
       "      <td>11.4800</td>\n",
       "      <td>NYSEArca</td>\n",
       "    </tr>\n",
       "    <tr>\n",
       "      <td>13852</td>\n",
       "      <td>BNKU</td>\n",
       "      <td>NaN</td>\n",
       "      <td>74.3745</td>\n",
       "      <td>YHD</td>\n",
       "    </tr>\n",
       "    <tr>\n",
       "      <td>13853</td>\n",
       "      <td>ARMR</td>\n",
       "      <td>Armor US Equity Index ETF</td>\n",
       "      <td>20.3900</td>\n",
       "      <td>NYSEArca</td>\n",
       "    </tr>\n",
       "  </tbody>\n",
       "</table>\n",
       "<p>13854 rows × 4 columns</p>\n",
       "</div>"
      ],
      "text/plain": [
       "      symbol                                      name     price  \\\n",
       "0        SPY                              SPDR S&P 500  336.9900   \n",
       "1      CMCSA  Comcast Corporation Class A Common Stock   46.0200   \n",
       "2        KMI                        Kinder Morgan Inc.   22.2400   \n",
       "3       INTC                         Intel Corporation   65.4500   \n",
       "4         MU                    Micron Technology Inc.   59.0000   \n",
       "...      ...                                       ...       ...   \n",
       "13849    SWT                                       NaN  105.0700   \n",
       "13850   XBUY                                       NaN   28.0662   \n",
       "13851   YOLO                                       NaN   11.4800   \n",
       "13852   BNKU                                       NaN   74.3745   \n",
       "13853   ARMR                 Armor US Equity Index ETF   20.3900   \n",
       "\n",
       "                      exchange  \n",
       "0                    NYSE Arca  \n",
       "1         Nasdaq Global Select  \n",
       "2      New York Stock Exchange  \n",
       "3         Nasdaq Global Select  \n",
       "4         Nasdaq Global Select  \n",
       "...                        ...  \n",
       "13849                     NYSE  \n",
       "13850                 NYSEArca  \n",
       "13851                 NYSEArca  \n",
       "13852                      YHD  \n",
       "13853                 NYSEArca  \n",
       "\n",
       "[13854 rows x 4 columns]"
      ]
     },
     "execution_count": 47,
     "metadata": {},
     "output_type": "execute_result"
    }
   ],
   "source": []
  },
  {
   "cell_type": "code",
   "execution_count": 116,
   "metadata": {},
   "outputs": [],
   "source": [
    "AAPL = requests.get('https://financialmodelingprep.com/api/v3/historical-price-full/AAPL')"
   ]
  },
  {
   "cell_type": "code",
   "execution_count": 117,
   "metadata": {},
   "outputs": [],
   "source": [
    "GS = requests.get('https://financialmodelingprep.com/api/v3/historical-price-full/GS')"
   ]
  },
  {
   "cell_type": "code",
   "execution_count": 130,
   "metadata": {},
   "outputs": [],
   "source": [
    "df1 = pd.DataFrame(AAPL.json()['historical']).set_index('date')"
   ]
  },
  {
   "cell_type": "code",
   "execution_count": 131,
   "metadata": {},
   "outputs": [
    {
     "data": {
      "text/html": [
       "<div>\n",
       "<style scoped>\n",
       "    .dataframe tbody tr th:only-of-type {\n",
       "        vertical-align: middle;\n",
       "    }\n",
       "\n",
       "    .dataframe tbody tr th {\n",
       "        vertical-align: top;\n",
       "    }\n",
       "\n",
       "    .dataframe thead th {\n",
       "        text-align: right;\n",
       "    }\n",
       "</style>\n",
       "<table border=\"1\" class=\"dataframe\">\n",
       "  <thead>\n",
       "    <tr style=\"text-align: right;\">\n",
       "      <th></th>\n",
       "      <th>open</th>\n",
       "      <th>high</th>\n",
       "      <th>low</th>\n",
       "      <th>close</th>\n",
       "      <th>adjClose</th>\n",
       "      <th>volume</th>\n",
       "      <th>unadjustedVolume</th>\n",
       "      <th>change</th>\n",
       "      <th>changePercent</th>\n",
       "      <th>vwap</th>\n",
       "      <th>label</th>\n",
       "      <th>changeOverTime</th>\n",
       "    </tr>\n",
       "    <tr>\n",
       "      <th>date</th>\n",
       "      <th></th>\n",
       "      <th></th>\n",
       "      <th></th>\n",
       "      <th></th>\n",
       "      <th></th>\n",
       "      <th></th>\n",
       "      <th></th>\n",
       "      <th></th>\n",
       "      <th></th>\n",
       "      <th></th>\n",
       "      <th></th>\n",
       "      <th></th>\n",
       "    </tr>\n",
       "  </thead>\n",
       "  <tbody>\n",
       "    <tr>\n",
       "      <td>2015-02-23</td>\n",
       "      <td>130.02</td>\n",
       "      <td>133.00</td>\n",
       "      <td>129.66</td>\n",
       "      <td>133.00</td>\n",
       "      <td>123.05</td>\n",
       "      <td>70974100.0</td>\n",
       "      <td>70974100.0</td>\n",
       "      <td>-2.98</td>\n",
       "      <td>-2.292</td>\n",
       "      <td>131.88667</td>\n",
       "      <td>February 23, 15</td>\n",
       "      <td>-0.02292</td>\n",
       "    </tr>\n",
       "    <tr>\n",
       "      <td>2015-02-24</td>\n",
       "      <td>132.94</td>\n",
       "      <td>133.60</td>\n",
       "      <td>131.17</td>\n",
       "      <td>132.17</td>\n",
       "      <td>122.29</td>\n",
       "      <td>69228100.0</td>\n",
       "      <td>69228100.0</td>\n",
       "      <td>0.77</td>\n",
       "      <td>0.579</td>\n",
       "      <td>132.31333</td>\n",
       "      <td>February 24, 15</td>\n",
       "      <td>0.00579</td>\n",
       "    </tr>\n",
       "    <tr>\n",
       "      <td>2015-02-25</td>\n",
       "      <td>131.56</td>\n",
       "      <td>131.60</td>\n",
       "      <td>128.15</td>\n",
       "      <td>128.79</td>\n",
       "      <td>119.16</td>\n",
       "      <td>74711700.0</td>\n",
       "      <td>74711700.0</td>\n",
       "      <td>2.77</td>\n",
       "      <td>2.106</td>\n",
       "      <td>129.51333</td>\n",
       "      <td>February 25, 15</td>\n",
       "      <td>0.02106</td>\n",
       "    </tr>\n",
       "    <tr>\n",
       "      <td>2015-02-26</td>\n",
       "      <td>128.79</td>\n",
       "      <td>130.87</td>\n",
       "      <td>126.61</td>\n",
       "      <td>130.42</td>\n",
       "      <td>120.67</td>\n",
       "      <td>91287500.0</td>\n",
       "      <td>91287500.0</td>\n",
       "      <td>-1.63</td>\n",
       "      <td>-1.266</td>\n",
       "      <td>129.30000</td>\n",
       "      <td>February 26, 15</td>\n",
       "      <td>-0.01266</td>\n",
       "    </tr>\n",
       "    <tr>\n",
       "      <td>2015-02-27</td>\n",
       "      <td>130.00</td>\n",
       "      <td>130.57</td>\n",
       "      <td>128.24</td>\n",
       "      <td>128.46</td>\n",
       "      <td>118.85</td>\n",
       "      <td>62014800.0</td>\n",
       "      <td>62014800.0</td>\n",
       "      <td>1.54</td>\n",
       "      <td>1.185</td>\n",
       "      <td>129.09000</td>\n",
       "      <td>February 27, 15</td>\n",
       "      <td>0.01185</td>\n",
       "    </tr>\n",
       "  </tbody>\n",
       "</table>\n",
       "</div>"
      ],
      "text/plain": [
       "              open    high     low   close  adjClose      volume  \\\n",
       "date                                                               \n",
       "2015-02-23  130.02  133.00  129.66  133.00    123.05  70974100.0   \n",
       "2015-02-24  132.94  133.60  131.17  132.17    122.29  69228100.0   \n",
       "2015-02-25  131.56  131.60  128.15  128.79    119.16  74711700.0   \n",
       "2015-02-26  128.79  130.87  126.61  130.42    120.67  91287500.0   \n",
       "2015-02-27  130.00  130.57  128.24  128.46    118.85  62014800.0   \n",
       "\n",
       "            unadjustedVolume  change  changePercent       vwap  \\\n",
       "date                                                             \n",
       "2015-02-23        70974100.0   -2.98         -2.292  131.88667   \n",
       "2015-02-24        69228100.0    0.77          0.579  132.31333   \n",
       "2015-02-25        74711700.0    2.77          2.106  129.51333   \n",
       "2015-02-26        91287500.0   -1.63         -1.266  129.30000   \n",
       "2015-02-27        62014800.0    1.54          1.185  129.09000   \n",
       "\n",
       "                      label  changeOverTime  \n",
       "date                                         \n",
       "2015-02-23  February 23, 15        -0.02292  \n",
       "2015-02-24  February 24, 15         0.00579  \n",
       "2015-02-25  February 25, 15         0.02106  \n",
       "2015-02-26  February 26, 15        -0.01266  \n",
       "2015-02-27  February 27, 15         0.01185  "
      ]
     },
     "execution_count": 131,
     "metadata": {},
     "output_type": "execute_result"
    }
   ],
   "source": [
    "df1.head()"
   ]
  },
  {
   "cell_type": "code",
   "execution_count": 128,
   "metadata": {},
   "outputs": [],
   "source": [
    "df2 = pd.DataFrame(GS.json()['historical']).set_index('date')"
   ]
  },
  {
   "cell_type": "code",
   "execution_count": 129,
   "metadata": {},
   "outputs": [
    {
     "data": {
      "text/html": [
       "<div>\n",
       "<style scoped>\n",
       "    .dataframe tbody tr th:only-of-type {\n",
       "        vertical-align: middle;\n",
       "    }\n",
       "\n",
       "    .dataframe tbody tr th {\n",
       "        vertical-align: top;\n",
       "    }\n",
       "\n",
       "    .dataframe thead th {\n",
       "        text-align: right;\n",
       "    }\n",
       "</style>\n",
       "<table border=\"1\" class=\"dataframe\">\n",
       "  <thead>\n",
       "    <tr style=\"text-align: right;\">\n",
       "      <th></th>\n",
       "      <th>open</th>\n",
       "      <th>high</th>\n",
       "      <th>low</th>\n",
       "      <th>close</th>\n",
       "      <th>adjClose</th>\n",
       "      <th>volume</th>\n",
       "      <th>unadjustedVolume</th>\n",
       "      <th>change</th>\n",
       "      <th>changePercent</th>\n",
       "      <th>vwap</th>\n",
       "      <th>label</th>\n",
       "      <th>changeOverTime</th>\n",
       "    </tr>\n",
       "    <tr>\n",
       "      <th>date</th>\n",
       "      <th></th>\n",
       "      <th></th>\n",
       "      <th></th>\n",
       "      <th></th>\n",
       "      <th></th>\n",
       "      <th></th>\n",
       "      <th></th>\n",
       "      <th></th>\n",
       "      <th></th>\n",
       "      <th></th>\n",
       "      <th></th>\n",
       "      <th></th>\n",
       "    </tr>\n",
       "  </thead>\n",
       "  <tbody>\n",
       "    <tr>\n",
       "      <td>2015-02-23</td>\n",
       "      <td>190.74</td>\n",
       "      <td>190.74</td>\n",
       "      <td>189.27</td>\n",
       "      <td>190.31</td>\n",
       "      <td>177.53</td>\n",
       "      <td>1691100.0</td>\n",
       "      <td>1691100.0</td>\n",
       "      <td>0.43</td>\n",
       "      <td>0.225</td>\n",
       "      <td>190.10667</td>\n",
       "      <td>February 23, 15</td>\n",
       "      <td>0.00225</td>\n",
       "    </tr>\n",
       "    <tr>\n",
       "      <td>2015-02-24</td>\n",
       "      <td>190.03</td>\n",
       "      <td>193.28</td>\n",
       "      <td>189.68</td>\n",
       "      <td>192.22</td>\n",
       "      <td>179.31</td>\n",
       "      <td>2627300.0</td>\n",
       "      <td>2627300.0</td>\n",
       "      <td>-2.19</td>\n",
       "      <td>-1.152</td>\n",
       "      <td>191.72667</td>\n",
       "      <td>February 24, 15</td>\n",
       "      <td>-0.01152</td>\n",
       "    </tr>\n",
       "    <tr>\n",
       "      <td>2015-02-25</td>\n",
       "      <td>191.55</td>\n",
       "      <td>192.45</td>\n",
       "      <td>190.46</td>\n",
       "      <td>191.72</td>\n",
       "      <td>178.85</td>\n",
       "      <td>2775700.0</td>\n",
       "      <td>2775700.0</td>\n",
       "      <td>-0.17</td>\n",
       "      <td>-0.089</td>\n",
       "      <td>191.54333</td>\n",
       "      <td>February 25, 15</td>\n",
       "      <td>-0.00089</td>\n",
       "    </tr>\n",
       "    <tr>\n",
       "      <td>2015-02-26</td>\n",
       "      <td>190.51</td>\n",
       "      <td>192.47</td>\n",
       "      <td>190.00</td>\n",
       "      <td>192.20</td>\n",
       "      <td>179.86</td>\n",
       "      <td>2449300.0</td>\n",
       "      <td>2449300.0</td>\n",
       "      <td>-1.69</td>\n",
       "      <td>-0.887</td>\n",
       "      <td>191.55667</td>\n",
       "      <td>February 26, 15</td>\n",
       "      <td>-0.00887</td>\n",
       "    </tr>\n",
       "    <tr>\n",
       "      <td>2015-02-27</td>\n",
       "      <td>191.19</td>\n",
       "      <td>192.50</td>\n",
       "      <td>189.79</td>\n",
       "      <td>189.79</td>\n",
       "      <td>177.60</td>\n",
       "      <td>2572400.0</td>\n",
       "      <td>2572400.0</td>\n",
       "      <td>1.40</td>\n",
       "      <td>0.732</td>\n",
       "      <td>190.69333</td>\n",
       "      <td>February 27, 15</td>\n",
       "      <td>0.00732</td>\n",
       "    </tr>\n",
       "  </tbody>\n",
       "</table>\n",
       "</div>"
      ],
      "text/plain": [
       "              open    high     low   close  adjClose     volume  \\\n",
       "date                                                              \n",
       "2015-02-23  190.74  190.74  189.27  190.31    177.53  1691100.0   \n",
       "2015-02-24  190.03  193.28  189.68  192.22    179.31  2627300.0   \n",
       "2015-02-25  191.55  192.45  190.46  191.72    178.85  2775700.0   \n",
       "2015-02-26  190.51  192.47  190.00  192.20    179.86  2449300.0   \n",
       "2015-02-27  191.19  192.50  189.79  189.79    177.60  2572400.0   \n",
       "\n",
       "            unadjustedVolume  change  changePercent       vwap  \\\n",
       "date                                                             \n",
       "2015-02-23         1691100.0    0.43          0.225  190.10667   \n",
       "2015-02-24         2627300.0   -2.19         -1.152  191.72667   \n",
       "2015-02-25         2775700.0   -0.17         -0.089  191.54333   \n",
       "2015-02-26         2449300.0   -1.69         -0.887  191.55667   \n",
       "2015-02-27         2572400.0    1.40          0.732  190.69333   \n",
       "\n",
       "                      label  changeOverTime  \n",
       "date                                         \n",
       "2015-02-23  February 23, 15         0.00225  \n",
       "2015-02-24  February 24, 15        -0.01152  \n",
       "2015-02-25  February 25, 15        -0.00089  \n",
       "2015-02-26  February 26, 15        -0.00887  \n",
       "2015-02-27  February 27, 15         0.00732  "
      ]
     },
     "execution_count": 129,
     "metadata": {},
     "output_type": "execute_result"
    }
   ],
   "source": [
    "df2.head()"
   ]
  },
  {
   "cell_type": "code",
   "execution_count": 133,
   "metadata": {},
   "outputs": [],
   "source": [
    "symbols = ['AAPL','GS']"
   ]
  },
  {
   "cell_type": "code",
   "execution_count": 3,
   "metadata": {},
   "outputs": [],
   "source": [
    "myData = pd.DataFrame()"
   ]
  },
  {
   "cell_type": "code",
   "execution_count": 18,
   "metadata": {},
   "outputs": [],
   "source": [
    "response = requests.get(f'https://financialmodelingprep.com/api/v3/historical-price-full/AAPL')"
   ]
  },
  {
   "cell_type": "code",
   "execution_count": 25,
   "metadata": {},
   "outputs": [],
   "source": [
    "AAPL = response.json()['historical']"
   ]
  },
  {
   "cell_type": "code",
   "execution_count": 27,
   "metadata": {},
   "outputs": [],
   "source": [
    "APL={}"
   ]
  },
  {
   "cell_type": "code",
   "execution_count": 32,
   "metadata": {},
   "outputs": [],
   "source": [
    "for item in AAPL:\n",
    "    date = item['date']\n",
    "    close =item['close']\n",
    "    APL[date]=close\n"
   ]
  },
  {
   "cell_type": "code",
   "execution_count": 34,
   "metadata": {},
   "outputs": [],
   "source": [
    "GS_response = requests.get(f'https://financialmodelingprep.com/api/v3/historical-price-full/GS')"
   ]
  },
  {
   "cell_type": "code",
   "execution_count": 35,
   "metadata": {},
   "outputs": [],
   "source": [
    "GS={}"
   ]
  },
  {
   "cell_type": "code",
   "execution_count": 36,
   "metadata": {},
   "outputs": [],
   "source": [
    "GS_data = GS_response.json()['historical']"
   ]
  },
  {
   "cell_type": "code",
   "execution_count": 38,
   "metadata": {},
   "outputs": [],
   "source": [
    "for item in GS_data:\n",
    "    date = item['date']\n",
    "    close = item['close']\n",
    "    GS[date]=close"
   ]
  },
  {
   "cell_type": "code",
   "execution_count": null,
   "metadata": {},
   "outputs": [],
   "source": [
    "########################################################################\n",
    "\n",
    "\n",
    "########################################################################"
   ]
  },
  {
   "cell_type": "code",
   "execution_count": 198,
   "metadata": {},
   "outputs": [],
   "source": [
    "df = pd.DataFrame()"
   ]
  },
  {
   "cell_type": "code",
   "execution_count": 199,
   "metadata": {},
   "outputs": [],
   "source": [
    "symbols = ['GE','HPQ']"
   ]
  },
  {
   "cell_type": "code",
   "execution_count": 200,
   "metadata": {},
   "outputs": [],
   "source": [
    "for symbol in symbols:\n",
    "    response = requests.get(f'https://financialmodelingprep.com/api/v3/historical-price-full/{symbol}')\n",
    "    df[symbol] = pd.DataFrame(response.json()['historical']).set_index('date')['close']\n",
    "    "
   ]
  },
  {
   "cell_type": "code",
   "execution_count": 201,
   "metadata": {},
   "outputs": [],
   "source": [
    "####################################\n",
    "\n",
    "# Risk\n",
    "\n",
    "####################################"
   ]
  },
  {
   "cell_type": "code",
   "execution_count": 202,
   "metadata": {},
   "outputs": [],
   "source": [
    "sec_returns = np.log(df/df.shift(1))"
   ]
  },
  {
   "cell_type": "code",
   "execution_count": 203,
   "metadata": {},
   "outputs": [],
   "source": [
    "sec_returns.dropna(inplace=True)"
   ]
  },
  {
   "cell_type": "code",
   "execution_count": 204,
   "metadata": {},
   "outputs": [
    {
     "data": {
      "text/html": [
       "<div>\n",
       "<style scoped>\n",
       "    .dataframe tbody tr th:only-of-type {\n",
       "        vertical-align: middle;\n",
       "    }\n",
       "\n",
       "    .dataframe tbody tr th {\n",
       "        vertical-align: top;\n",
       "    }\n",
       "\n",
       "    .dataframe thead th {\n",
       "        text-align: right;\n",
       "    }\n",
       "</style>\n",
       "<table border=\"1\" class=\"dataframe\">\n",
       "  <thead>\n",
       "    <tr style=\"text-align: right;\">\n",
       "      <th></th>\n",
       "      <th>GE</th>\n",
       "      <th>HPQ</th>\n",
       "    </tr>\n",
       "    <tr>\n",
       "      <th>date</th>\n",
       "      <th></th>\n",
       "      <th></th>\n",
       "    </tr>\n",
       "  </thead>\n",
       "  <tbody>\n",
       "    <tr>\n",
       "      <td>2015-02-24</td>\n",
       "      <td>0.008640</td>\n",
       "      <td>0.008041</td>\n",
       "    </tr>\n",
       "    <tr>\n",
       "      <td>2015-02-25</td>\n",
       "      <td>0.020276</td>\n",
       "      <td>-0.104852</td>\n",
       "    </tr>\n",
       "    <tr>\n",
       "      <td>2015-02-26</td>\n",
       "      <td>-0.000803</td>\n",
       "      <td>-0.018596</td>\n",
       "    </tr>\n",
       "    <tr>\n",
       "      <td>2015-02-27</td>\n",
       "      <td>0.004010</td>\n",
       "      <td>0.023666</td>\n",
       "    </tr>\n",
       "    <tr>\n",
       "      <td>2015-03-02</td>\n",
       "      <td>0.004790</td>\n",
       "      <td>0.002525</td>\n",
       "    </tr>\n",
       "    <tr>\n",
       "      <td>...</td>\n",
       "      <td>...</td>\n",
       "      <td>...</td>\n",
       "    </tr>\n",
       "    <tr>\n",
       "      <td>2020-02-14</td>\n",
       "      <td>-0.008537</td>\n",
       "      <td>0.006728</td>\n",
       "    </tr>\n",
       "    <tr>\n",
       "      <td>2020-02-18</td>\n",
       "      <td>-0.006255</td>\n",
       "      <td>-0.005828</td>\n",
       "    </tr>\n",
       "    <tr>\n",
       "      <td>2020-02-19</td>\n",
       "      <td>-0.011041</td>\n",
       "      <td>0.008507</td>\n",
       "    </tr>\n",
       "    <tr>\n",
       "      <td>2020-02-20</td>\n",
       "      <td>-0.006364</td>\n",
       "      <td>0.009319</td>\n",
       "    </tr>\n",
       "    <tr>\n",
       "      <td>2020-02-21</td>\n",
       "      <td>-0.022600</td>\n",
       "      <td>0.002647</td>\n",
       "    </tr>\n",
       "  </tbody>\n",
       "</table>\n",
       "<p>1258 rows × 2 columns</p>\n",
       "</div>"
      ],
      "text/plain": [
       "                  GE       HPQ\n",
       "date                          \n",
       "2015-02-24  0.008640  0.008041\n",
       "2015-02-25  0.020276 -0.104852\n",
       "2015-02-26 -0.000803 -0.018596\n",
       "2015-02-27  0.004010  0.023666\n",
       "2015-03-02  0.004790  0.002525\n",
       "...              ...       ...\n",
       "2020-02-14 -0.008537  0.006728\n",
       "2020-02-18 -0.006255 -0.005828\n",
       "2020-02-19 -0.011041  0.008507\n",
       "2020-02-20 -0.006364  0.009319\n",
       "2020-02-21 -0.022600  0.002647\n",
       "\n",
       "[1258 rows x 2 columns]"
      ]
     },
     "execution_count": 204,
     "metadata": {},
     "output_type": "execute_result"
    }
   ],
   "source": [
    "sec_returns"
   ]
  },
  {
   "cell_type": "code",
   "execution_count": 235,
   "metadata": {},
   "outputs": [],
   "source": [
    "risk = round((sec_returns[symbols].std()*250**0.5),4).tolist()"
   ]
  },
  {
   "cell_type": "code",
   "execution_count": 246,
   "metadata": {},
   "outputs": [],
   "source": [
    "returns = round((sec_returns[symbols].mean()*252),4).tolist()"
   ]
  },
  {
   "cell_type": "code",
   "execution_count": 257,
   "metadata": {},
   "outputs": [],
   "source": [
    "arr = []"
   ]
  },
  {
   "cell_type": "code",
   "execution_count": 258,
   "metadata": {},
   "outputs": [],
   "source": [
    "for symbol in symbols:\n",
    "    dictionary = {}\n",
    "    dictionary['risk']=risk[0]\n",
    "    dictionary['symbol']=symbol\n",
    "    dictionary['return']=returns[0]\n",
    "    arr.append(dictionary)\n"
   ]
  },
  {
   "cell_type": "code",
   "execution_count": 259,
   "metadata": {},
   "outputs": [],
   "source": [
    "arr.append(dictionary)"
   ]
  },
  {
   "cell_type": "code",
   "execution_count": 260,
   "metadata": {},
   "outputs": [
    {
     "data": {
      "text/plain": [
       "[{'risk': 0.3033, 'symbol': 'GE', 'return': -0.1364},\n",
       " {'risk': 0.3033, 'symbol': 'HPQ', 'return': -0.1364},\n",
       " {'risk': 0.3033, 'symbol': 'HPQ', 'return': -0.1364}]"
      ]
     },
     "execution_count": 260,
     "metadata": {},
     "output_type": "execute_result"
    }
   ],
   "source": [
    "arr"
   ]
  },
  {
   "cell_type": "code",
   "execution_count": 250,
   "metadata": {},
   "outputs": [
    {
     "data": {
      "text/plain": [
       "{'risk': 0.3033, 'symbol': 'H', 'return': -0.1364}"
      ]
     },
     "execution_count": 250,
     "metadata": {},
     "output_type": "execute_result"
    }
   ],
   "source": [
    "dictionary"
   ]
  },
  {
   "cell_type": "code",
   "execution_count": 197,
   "metadata": {},
   "outputs": [
    {
     "data": {
      "text/plain": [
       "[{'GE': -0.13638181831106486, 'HPQ': 0.05395543417329918}]"
      ]
     },
     "execution_count": 197,
     "metadata": {},
     "output_type": "execute_result"
    }
   ],
   "source": [
    "pd.DataFrame.from_dict(test,orient='index',columns=['return']).T.to_dict(orient='records')"
   ]
  },
  {
   "cell_type": "code",
   "execution_count": 151,
   "metadata": {},
   "outputs": [
    {
     "ename": "SyntaxError",
     "evalue": "invalid syntax (<ipython-input-151-913e79511185>, line 1)",
     "output_type": "error",
     "traceback": [
      "\u001b[0;36m  File \u001b[0;32m\"<ipython-input-151-913e79511185>\"\u001b[0;36m, line \u001b[0;32m1\u001b[0m\n\u001b[0;31m    returns_dic = round((sec_returns[symbols].mean()*252),4).\u001b[0m\n\u001b[0m                                                             ^\u001b[0m\n\u001b[0;31mSyntaxError\u001b[0m\u001b[0;31m:\u001b[0m invalid syntax\n"
     ]
    }
   ],
   "source": [
    "returns_dic = round((sec_returns[symbols].mean()*252),4).tolist()"
   ]
  },
  {
   "cell_type": "code",
   "execution_count": 127,
   "metadata": {},
   "outputs": [],
   "source": [
    "risk_dict = round(sec_returns[symbols].std()*250**0.5).to_dict()"
   ]
  },
  {
   "cell_type": "code",
   "execution_count": 144,
   "metadata": {},
   "outputs": [],
   "source": [
    "returns = []\n",
    "returns.append(returns_dic)"
   ]
  },
  {
   "cell_type": "code",
   "execution_count": 145,
   "metadata": {},
   "outputs": [
    {
     "data": {
      "text/plain": [
       "[[-0.1364, 0.054]]"
      ]
     },
     "execution_count": 145,
     "metadata": {},
     "output_type": "execute_result"
    }
   ],
   "source": [
    "returns"
   ]
  },
  {
   "cell_type": "code",
   "execution_count": null,
   "metadata": {},
   "outputs": [],
   "source": []
  },
  {
   "cell_type": "code",
   "execution_count": null,
   "metadata": {},
   "outputs": [],
   "source": [
    "###############################################\n",
    "\n",
    "# price change\n",
    "\n",
    "################################################"
   ]
  },
  {
   "cell_type": "code",
   "execution_count": 7,
   "metadata": {},
   "outputs": [],
   "source": [
    "for symbol in symbols:\n",
    "    response = requests.get(f'https://financialmodelingprep.com/api/v3/historical-price-full/{symbol}')\n",
    "    df[symbol] = pd.DataFrame(response.json()['historical']).set_index('date')['close'].pct_change()\n",
    "    "
   ]
  },
  {
   "cell_type": "code",
   "execution_count": null,
   "metadata": {},
   "outputs": [],
   "source": [
    "###############################################\n",
    "\n",
    "# Portfolio return\n",
    "\n",
    "################################################"
   ]
  },
  {
   "cell_type": "code",
   "execution_count": 261,
   "metadata": {},
   "outputs": [],
   "source": [
    "df = pd.DataFrame()"
   ]
  },
  {
   "cell_type": "code",
   "execution_count": 265,
   "metadata": {},
   "outputs": [],
   "source": [
    "symbols = ['GE','HPQ']"
   ]
  },
  {
   "cell_type": "code",
   "execution_count": 266,
   "metadata": {},
   "outputs": [],
   "source": [
    "for symbol in symbols:\n",
    "    response = requests.get(f'https://financialmodelingprep.com/api/v3/historical-price-full/{symbol}')\n",
    "    df[symbol] = pd.DataFrame(response.json()['historical']).set_index('date')['close']\n",
    "    "
   ]
  },
  {
   "cell_type": "code",
   "execution_count": 267,
   "metadata": {},
   "outputs": [
    {
     "data": {
      "text/html": [
       "<div>\n",
       "<style scoped>\n",
       "    .dataframe tbody tr th:only-of-type {\n",
       "        vertical-align: middle;\n",
       "    }\n",
       "\n",
       "    .dataframe tbody tr th {\n",
       "        vertical-align: top;\n",
       "    }\n",
       "\n",
       "    .dataframe thead th {\n",
       "        text-align: right;\n",
       "    }\n",
       "</style>\n",
       "<table border=\"1\" class=\"dataframe\">\n",
       "  <thead>\n",
       "    <tr style=\"text-align: right;\">\n",
       "      <th></th>\n",
       "      <th>GE</th>\n",
       "      <th>HPQ</th>\n",
       "    </tr>\n",
       "    <tr>\n",
       "      <th>date</th>\n",
       "      <th></th>\n",
       "      <th></th>\n",
       "    </tr>\n",
       "  </thead>\n",
       "  <tbody>\n",
       "    <tr>\n",
       "      <td>2015-02-23</td>\n",
       "      <td>24.20</td>\n",
       "      <td>17.34</td>\n",
       "    </tr>\n",
       "    <tr>\n",
       "      <td>2015-02-24</td>\n",
       "      <td>24.41</td>\n",
       "      <td>17.48</td>\n",
       "    </tr>\n",
       "    <tr>\n",
       "      <td>2015-02-25</td>\n",
       "      <td>24.91</td>\n",
       "      <td>15.74</td>\n",
       "    </tr>\n",
       "    <tr>\n",
       "      <td>2015-02-26</td>\n",
       "      <td>24.89</td>\n",
       "      <td>15.45</td>\n",
       "    </tr>\n",
       "    <tr>\n",
       "      <td>2015-02-27</td>\n",
       "      <td>24.99</td>\n",
       "      <td>15.82</td>\n",
       "    </tr>\n",
       "    <tr>\n",
       "      <td>...</td>\n",
       "      <td>...</td>\n",
       "      <td>...</td>\n",
       "    </tr>\n",
       "    <tr>\n",
       "      <td>2020-02-14</td>\n",
       "      <td>12.83</td>\n",
       "      <td>22.37</td>\n",
       "    </tr>\n",
       "    <tr>\n",
       "      <td>2020-02-18</td>\n",
       "      <td>12.75</td>\n",
       "      <td>22.24</td>\n",
       "    </tr>\n",
       "    <tr>\n",
       "      <td>2020-02-19</td>\n",
       "      <td>12.61</td>\n",
       "      <td>22.43</td>\n",
       "    </tr>\n",
       "    <tr>\n",
       "      <td>2020-02-20</td>\n",
       "      <td>12.53</td>\n",
       "      <td>22.64</td>\n",
       "    </tr>\n",
       "    <tr>\n",
       "      <td>2020-02-21</td>\n",
       "      <td>12.25</td>\n",
       "      <td>22.70</td>\n",
       "    </tr>\n",
       "  </tbody>\n",
       "</table>\n",
       "<p>1259 rows × 2 columns</p>\n",
       "</div>"
      ],
      "text/plain": [
       "               GE    HPQ\n",
       "date                    \n",
       "2015-02-23  24.20  17.34\n",
       "2015-02-24  24.41  17.48\n",
       "2015-02-25  24.91  15.74\n",
       "2015-02-26  24.89  15.45\n",
       "2015-02-27  24.99  15.82\n",
       "...           ...    ...\n",
       "2020-02-14  12.83  22.37\n",
       "2020-02-18  12.75  22.24\n",
       "2020-02-19  12.61  22.43\n",
       "2020-02-20  12.53  22.64\n",
       "2020-02-21  12.25  22.70\n",
       "\n",
       "[1259 rows x 2 columns]"
      ]
     },
     "execution_count": 267,
     "metadata": {},
     "output_type": "execute_result"
    }
   ],
   "source": [
    "df"
   ]
  },
  {
   "cell_type": "code",
   "execution_count": 296,
   "metadata": {},
   "outputs": [],
   "source": [
    "returns = (df/df.shift(1))-1"
   ]
  },
  {
   "cell_type": "code",
   "execution_count": 298,
   "metadata": {},
   "outputs": [
    {
     "data": {
      "text/html": [
       "<div>\n",
       "<style scoped>\n",
       "    .dataframe tbody tr th:only-of-type {\n",
       "        vertical-align: middle;\n",
       "    }\n",
       "\n",
       "    .dataframe tbody tr th {\n",
       "        vertical-align: top;\n",
       "    }\n",
       "\n",
       "    .dataframe thead th {\n",
       "        text-align: right;\n",
       "    }\n",
       "</style>\n",
       "<table border=\"1\" class=\"dataframe\">\n",
       "  <thead>\n",
       "    <tr style=\"text-align: right;\">\n",
       "      <th></th>\n",
       "      <th>GE</th>\n",
       "      <th>HPQ</th>\n",
       "    </tr>\n",
       "    <tr>\n",
       "      <th>date</th>\n",
       "      <th></th>\n",
       "      <th></th>\n",
       "    </tr>\n",
       "  </thead>\n",
       "  <tbody>\n",
       "    <tr>\n",
       "      <td>2015-02-23</td>\n",
       "      <td>NaN</td>\n",
       "      <td>NaN</td>\n",
       "    </tr>\n",
       "    <tr>\n",
       "      <td>2015-02-24</td>\n",
       "      <td>0.008678</td>\n",
       "      <td>0.008074</td>\n",
       "    </tr>\n",
       "    <tr>\n",
       "      <td>2015-02-25</td>\n",
       "      <td>0.020483</td>\n",
       "      <td>-0.099542</td>\n",
       "    </tr>\n",
       "    <tr>\n",
       "      <td>2015-02-26</td>\n",
       "      <td>-0.000803</td>\n",
       "      <td>-0.018424</td>\n",
       "    </tr>\n",
       "    <tr>\n",
       "      <td>2015-02-27</td>\n",
       "      <td>0.004018</td>\n",
       "      <td>0.023948</td>\n",
       "    </tr>\n",
       "  </tbody>\n",
       "</table>\n",
       "</div>"
      ],
      "text/plain": [
       "                  GE       HPQ\n",
       "date                          \n",
       "2015-02-23       NaN       NaN\n",
       "2015-02-24  0.008678  0.008074\n",
       "2015-02-25  0.020483 -0.099542\n",
       "2015-02-26 -0.000803 -0.018424\n",
       "2015-02-27  0.004018  0.023948"
      ]
     },
     "execution_count": 298,
     "metadata": {},
     "output_type": "execute_result"
    }
   ],
   "source": [
    "returns.head()"
   ]
  },
  {
   "cell_type": "code",
   "execution_count": 289,
   "metadata": {},
   "outputs": [],
   "source": [
    "ratio = 100/len(symbols)/100"
   ]
  },
  {
   "cell_type": "code",
   "execution_count": 290,
   "metadata": {},
   "outputs": [],
   "source": [
    "weights=np.array([])\n",
    "for symbol in symbols:\n",
    "    weights= np.append(weights,[ratio])"
   ]
  },
  {
   "cell_type": "code",
   "execution_count": 300,
   "metadata": {},
   "outputs": [
    {
     "data": {
      "text/plain": [
       "GE    -0.089925\n",
       "HPQ    0.097127\n",
       "dtype: float64"
      ]
     },
     "execution_count": 300,
     "metadata": {},
     "output_type": "execute_result"
    }
   ],
   "source": [
    "annual_returns=returns.mean()*252\n",
    "annual_returns"
   ]
  },
  {
   "cell_type": "code",
   "execution_count": 304,
   "metadata": {},
   "outputs": [],
   "source": [
    "portfolio=(round(np.dot(annual_returns, weights), 5) * 100)"
   ]
  },
  {
   "cell_type": "code",
   "execution_count": 313,
   "metadata": {},
   "outputs": [],
   "source": [
    "sec_returns = np.log(df/df.shift(1))"
   ]
  },
  {
   "cell_type": "code",
   "execution_count": 318,
   "metadata": {},
   "outputs": [],
   "source": [
    "cov_matrix=sec_returns.cov()"
   ]
  },
  {
   "cell_type": "code",
   "execution_count": 319,
   "metadata": {},
   "outputs": [
    {
     "data": {
      "text/html": [
       "<div>\n",
       "<style scoped>\n",
       "    .dataframe tbody tr th:only-of-type {\n",
       "        vertical-align: middle;\n",
       "    }\n",
       "\n",
       "    .dataframe tbody tr th {\n",
       "        vertical-align: top;\n",
       "    }\n",
       "\n",
       "    .dataframe thead th {\n",
       "        text-align: right;\n",
       "    }\n",
       "</style>\n",
       "<table border=\"1\" class=\"dataframe\">\n",
       "  <thead>\n",
       "    <tr style=\"text-align: right;\">\n",
       "      <th></th>\n",
       "      <th>GE</th>\n",
       "      <th>HPQ</th>\n",
       "    </tr>\n",
       "  </thead>\n",
       "  <tbody>\n",
       "    <tr>\n",
       "      <td>GE</td>\n",
       "      <td>0.000368</td>\n",
       "      <td>0.000108</td>\n",
       "    </tr>\n",
       "    <tr>\n",
       "      <td>HPQ</td>\n",
       "      <td>0.000108</td>\n",
       "      <td>0.000346</td>\n",
       "    </tr>\n",
       "  </tbody>\n",
       "</table>\n",
       "</div>"
      ],
      "text/plain": [
       "           GE       HPQ\n",
       "GE   0.000368  0.000108\n",
       "HPQ  0.000108  0.000346"
      ]
     },
     "execution_count": 319,
     "metadata": {},
     "output_type": "execute_result"
    }
   ],
   "source": [
    "cov_matrix"
   ]
  },
  {
   "cell_type": "code",
   "execution_count": 320,
   "metadata": {},
   "outputs": [],
   "source": [
    "cov_matrix_a=sec_returns.cov()*252"
   ]
  },
  {
   "cell_type": "code",
   "execution_count": 321,
   "metadata": {},
   "outputs": [
    {
     "data": {
      "text/html": [
       "<div>\n",
       "<style scoped>\n",
       "    .dataframe tbody tr th:only-of-type {\n",
       "        vertical-align: middle;\n",
       "    }\n",
       "\n",
       "    .dataframe tbody tr th {\n",
       "        vertical-align: top;\n",
       "    }\n",
       "\n",
       "    .dataframe thead th {\n",
       "        text-align: right;\n",
       "    }\n",
       "</style>\n",
       "<table border=\"1\" class=\"dataframe\">\n",
       "  <thead>\n",
       "    <tr style=\"text-align: right;\">\n",
       "      <th></th>\n",
       "      <th>GE</th>\n",
       "      <th>HPQ</th>\n",
       "    </tr>\n",
       "  </thead>\n",
       "  <tbody>\n",
       "    <tr>\n",
       "      <td>GE</td>\n",
       "      <td>0.092743</td>\n",
       "      <td>0.027160</td>\n",
       "    </tr>\n",
       "    <tr>\n",
       "      <td>HPQ</td>\n",
       "      <td>0.027160</td>\n",
       "      <td>0.087099</td>\n",
       "    </tr>\n",
       "  </tbody>\n",
       "</table>\n",
       "</div>"
      ],
      "text/plain": [
       "           GE       HPQ\n",
       "GE   0.092743  0.027160\n",
       "HPQ  0.027160  0.087099"
      ]
     },
     "execution_count": 321,
     "metadata": {},
     "output_type": "execute_result"
    }
   ],
   "source": [
    "cov_matrix_a"
   ]
  },
  {
   "cell_type": "code",
   "execution_count": 322,
   "metadata": {},
   "outputs": [],
   "source": [
    "corr_matrix=sec_returns.corr()"
   ]
  },
  {
   "cell_type": "code",
   "execution_count": 323,
   "metadata": {},
   "outputs": [
    {
     "data": {
      "text/html": [
       "<div>\n",
       "<style scoped>\n",
       "    .dataframe tbody tr th:only-of-type {\n",
       "        vertical-align: middle;\n",
       "    }\n",
       "\n",
       "    .dataframe tbody tr th {\n",
       "        vertical-align: top;\n",
       "    }\n",
       "\n",
       "    .dataframe thead th {\n",
       "        text-align: right;\n",
       "    }\n",
       "</style>\n",
       "<table border=\"1\" class=\"dataframe\">\n",
       "  <thead>\n",
       "    <tr style=\"text-align: right;\">\n",
       "      <th></th>\n",
       "      <th>GE</th>\n",
       "      <th>HPQ</th>\n",
       "    </tr>\n",
       "  </thead>\n",
       "  <tbody>\n",
       "    <tr>\n",
       "      <td>GE</td>\n",
       "      <td>1.000000</td>\n",
       "      <td>0.302188</td>\n",
       "    </tr>\n",
       "    <tr>\n",
       "      <td>HPQ</td>\n",
       "      <td>0.302188</td>\n",
       "      <td>1.000000</td>\n",
       "    </tr>\n",
       "  </tbody>\n",
       "</table>\n",
       "</div>"
      ],
      "text/plain": [
       "           GE       HPQ\n",
       "GE   1.000000  0.302188\n",
       "HPQ  0.302188  1.000000"
      ]
     },
     "execution_count": 323,
     "metadata": {},
     "output_type": "execute_result"
    }
   ],
   "source": [
    "corr_matrix"
   ]
  },
  {
   "cell_type": "code",
   "execution_count": 324,
   "metadata": {},
   "outputs": [],
   "source": [
    "pfolio_var = np.dot(weights.T, np.dot(sec_returns.cov() * 250, weights))"
   ]
  },
  {
   "cell_type": "code",
   "execution_count": 325,
   "metadata": {},
   "outputs": [
    {
     "data": {
      "text/plain": [
       "0.05807586985689484"
      ]
     },
     "execution_count": 325,
     "metadata": {},
     "output_type": "execute_result"
    }
   ],
   "source": [
    "pfolio_var"
   ]
  },
  {
   "cell_type": "code",
   "execution_count": 326,
   "metadata": {},
   "outputs": [],
   "source": [
    "pfolio_vol = (np.dot(weights.T, np.dot(sec_returns.cov() * 250, weights))) ** 0.5"
   ]
  },
  {
   "cell_type": "code",
   "execution_count": 327,
   "metadata": {},
   "outputs": [
    {
     "data": {
      "text/plain": [
       "0.24098935631453694"
      ]
     },
     "execution_count": 327,
     "metadata": {},
     "output_type": "execute_result"
    }
   ],
   "source": [
    "pfolio_vol"
   ]
  },
  {
   "cell_type": "code",
   "execution_count": null,
   "metadata": {},
   "outputs": [],
   "source": []
  }
 ],
 "metadata": {
  "kernelspec": {
   "display_name": "Python 3",
   "language": "python",
   "name": "python3"
  },
  "language_info": {
   "codemirror_mode": {
    "name": "ipython",
    "version": 3
   },
   "file_extension": ".py",
   "mimetype": "text/x-python",
   "name": "python",
   "nbconvert_exporter": "python",
   "pygments_lexer": "ipython3",
   "version": "3.7.4"
  }
 },
 "nbformat": 4,
 "nbformat_minor": 4
}
